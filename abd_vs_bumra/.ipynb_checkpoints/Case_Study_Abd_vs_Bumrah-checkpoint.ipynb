{
 "cells": [
  {
   "cell_type": "code",
   "execution_count": 1,
   "id": "physical-patent",
   "metadata": {},
   "outputs": [],
   "source": [
    "import warnings\n",
    "warnings.filterwarnings('ignore')\n",
    "\n",
    "import pandas as pd\n",
    "import matplotlib.pyplot as plt\n",
    "import numpy as np\n",
    "\n",
    "\n",
    "#to display all rows and columns \n",
    "\n",
    "pd.set_option('display.max_rows',None)\n",
    "pd.set_option('display.max_columns',None)\n",
    "pd.set_option('display.expand_frame_repr',None)\n",
    "pd.set_option('max_colwidth',-1)"
   ]
  },
  {
   "cell_type": "code",
   "execution_count": 2,
   "id": "christian-sheet",
   "metadata": {},
   "outputs": [],
   "source": [
    "# ipl ball by ball data"
   ]
  },
  {
   "cell_type": "code",
   "execution_count": 3,
   "id": "exceptional-michael",
   "metadata": {},
   "outputs": [],
   "source": [
    "df = pd.read_csv('ipl_ball_by_ball_data.csv')"
   ]
  },
  {
   "cell_type": "code",
   "execution_count": 4,
   "id": "passing-routine",
   "metadata": {},
   "outputs": [
    {
     "data": {
      "text/html": [
       "<div>\n",
       "<style scoped>\n",
       "    .dataframe tbody tr th:only-of-type {\n",
       "        vertical-align: middle;\n",
       "    }\n",
       "\n",
       "    .dataframe tbody tr th {\n",
       "        vertical-align: top;\n",
       "    }\n",
       "\n",
       "    .dataframe thead th {\n",
       "        text-align: right;\n",
       "    }\n",
       "</style>\n",
       "<table border=\"1\" class=\"dataframe\">\n",
       "  <thead>\n",
       "    <tr style=\"text-align: right;\">\n",
       "      <th></th>\n",
       "      <th>match_id</th>\n",
       "      <th>season</th>\n",
       "      <th>start_date</th>\n",
       "      <th>venue</th>\n",
       "      <th>innings</th>\n",
       "      <th>ball</th>\n",
       "      <th>batting_team</th>\n",
       "      <th>bowling_team</th>\n",
       "      <th>striker</th>\n",
       "      <th>non_striker</th>\n",
       "      <th>bowler</th>\n",
       "      <th>runs_off_bat</th>\n",
       "      <th>extras</th>\n",
       "      <th>wides</th>\n",
       "      <th>noballs</th>\n",
       "      <th>byes</th>\n",
       "      <th>legbyes</th>\n",
       "      <th>penalty</th>\n",
       "      <th>wicket_type</th>\n",
       "      <th>player_dismissed</th>\n",
       "      <th>other_wicket_type</th>\n",
       "      <th>other_player_dismissed</th>\n",
       "    </tr>\n",
       "  </thead>\n",
       "  <tbody>\n",
       "    <tr>\n",
       "      <th>0</th>\n",
       "      <td>335982</td>\n",
       "      <td>2008</td>\n",
       "      <td>2008-04-18</td>\n",
       "      <td>M Chinnaswamy Stadium</td>\n",
       "      <td>1</td>\n",
       "      <td>0.1</td>\n",
       "      <td>Kolkata Knight Riders</td>\n",
       "      <td>Royal Challengers Bangalore</td>\n",
       "      <td>SC Ganguly</td>\n",
       "      <td>BB McCullum</td>\n",
       "      <td>P Kumar</td>\n",
       "      <td>0</td>\n",
       "      <td>1</td>\n",
       "      <td>NaN</td>\n",
       "      <td>NaN</td>\n",
       "      <td>NaN</td>\n",
       "      <td>1.0</td>\n",
       "      <td>NaN</td>\n",
       "      <td>NaN</td>\n",
       "      <td>NaN</td>\n",
       "      <td>NaN</td>\n",
       "      <td>NaN</td>\n",
       "    </tr>\n",
       "  </tbody>\n",
       "</table>\n",
       "</div>"
      ],
      "text/plain": [
       "   match_id  season  start_date                  venue  innings  ball           batting_team                 bowling_team     striker  non_striker   bowler  runs_off_bat  extras  wides  noballs  byes  legbyes  penalty wicket_type player_dismissed  other_wicket_type  other_player_dismissed\n",
       "0  335982    2008    2008-04-18  M Chinnaswamy Stadium  1        0.1   Kolkata Knight Riders  Royal Challengers Bangalore  SC Ganguly  BB McCullum  P Kumar  0             1      NaN    NaN      NaN    1.0     NaN       NaN         NaN             NaN                NaN                    "
      ]
     },
     "execution_count": 4,
     "metadata": {},
     "output_type": "execute_result"
    }
   ],
   "source": [
    "df.head(1)"
   ]
  },
  {
   "cell_type": "code",
   "execution_count": 5,
   "id": "opponent-shannon",
   "metadata": {},
   "outputs": [
    {
     "data": {
      "text/plain": [
       "array([1, 2, 4, 3, 5, 6], dtype=int64)"
      ]
     },
     "execution_count": 5,
     "metadata": {},
     "output_type": "execute_result"
    }
   ],
   "source": [
    "df.innings.unique()#3 and 4 represents super over data #5 and 6 represents double super over"
   ]
  },
  {
   "cell_type": "code",
   "execution_count": 6,
   "id": "minor-atmosphere",
   "metadata": {},
   "outputs": [],
   "source": [
    "df = df[(df.innings == 1) | (df.innings == 2)] # we only want inning 1 and 2 data"
   ]
  },
  {
   "cell_type": "code",
   "execution_count": 7,
   "id": "compliant-newcastle",
   "metadata": {},
   "outputs": [
    {
     "data": {
      "text/plain": [
       "array([1, 2], dtype=int64)"
      ]
     },
     "execution_count": 7,
     "metadata": {},
     "output_type": "execute_result"
    }
   ],
   "source": [
    "df.innings.unique()"
   ]
  },
  {
   "cell_type": "code",
   "execution_count": 8,
   "id": "fallen-boutique",
   "metadata": {},
   "outputs": [],
   "source": [
    "# What are the numbers when ABD faces Bhumra\n",
    "# step 1: Filter by player name\n",
    "# Step 2: Use these names & assign it to striker & bowler\n",
    "# step 3: Get the required columns"
   ]
  },
  {
   "cell_type": "markdown",
   "id": "wanted-explosion",
   "metadata": {},
   "source": [
    "## Step -1"
   ]
  },
  {
   "cell_type": "code",
   "execution_count": 9,
   "id": "alert-gamma",
   "metadata": {
    "scrolled": true
   },
   "outputs": [
    {
     "data": {
      "text/plain": [
       "array(['Royal Challengers Bangalore', 'Kolkata Knight Riders',\n",
       "       'Delhi Daredevils', 'Chennai Super Kings', 'Rajasthan Royals',\n",
       "       'Kings XI Punjab', 'Deccan Chargers', 'Mumbai Indians',\n",
       "       'Kochi Tuskers Kerala', 'Pune Warriors', 'Sunrisers Hyderabad',\n",
       "       'Rising Pune Supergiants', 'Gujarat Lions',\n",
       "       'Rising Pune Supergiant', 'Delhi Capitals', 'Punjab Kings'],\n",
       "      dtype=object)"
      ]
     },
     "execution_count": 9,
     "metadata": {},
     "output_type": "execute_result"
    }
   ],
   "source": [
    "df.bowling_team.unique()"
   ]
  },
  {
   "cell_type": "code",
   "execution_count": 63,
   "id": "funky-cooperative",
   "metadata": {},
   "outputs": [
    {
     "data": {
      "text/plain": [
       "array(['DS Kulkarni', 'A Nehra', 'AM Nayar', 'Harbhajan Singh',\n",
       "       'ST Jayasuriya', 'SM Pollock', 'MA Khote', 'DJ Bravo',\n",
       "       'VS Yeligati', 'SD Chitnis', 'CRD Fernando', 'DJ Thornely',\n",
       "       'RR Raje', 'DR Smith', 'A Nel', 'SL Malinga', 'Z Khan',\n",
       "       'SR Tendulkar', 'JP Duminy', 'GR Napier', 'C Nanda', 'AM Rahane',\n",
       "       'RA Shaikh', 'R McLaren', 'R Sathish', 'AG Murtaza', 'KA Pollard',\n",
       "       'AN Ahmed', 'STR Binny', 'MM Patel', 'JEC Franklin', 'RG Sharma',\n",
       "       'A Symonds', 'TL Suman', 'RW Price', 'PP Ojha', 'RP Singh',\n",
       "       'CJ McKay', 'NLTC Perera', 'RJ Peterson', 'R Shukla', 'JDP Oram',\n",
       "       'JJ Bumrah', 'MG Johnson', 'R Dhawan', 'YS Chahal', 'P Suyal',\n",
       "       'GJ Maxwell', 'NM Coulter-Nile', 'CJ Anderson', 'P Kumar',\n",
       "       'LMP Simmons', 'S Gopal', 'K Santokie', 'M de Lange',\n",
       "       'R Vinay Kumar', 'J Suchith', 'MJ McClenaghan', 'HH Pandya',\n",
       "       'TG Southee', 'KH Pandya', 'N Rana', 'KV Sharma', 'M Markande',\n",
       "       'Mustafizur Rahman', 'PJ Sangwan', 'BCJ Cutting', 'A Dananjaya',\n",
       "       'Rasikh Salam', 'RD Chahar', 'JP Behrendorff', 'AS Joseph',\n",
       "       'J Yadav', 'AS Roy', 'BB Sran', 'TA Boult', 'JL Pattinson',\n",
       "       'M Jansen', 'AF Milne', 'JDS Neesham'], dtype=object)"
      ]
     },
     "execution_count": 63,
     "metadata": {},
     "output_type": "execute_result"
    }
   ],
   "source": [
    "df[df.bowling_team == 'Mumbai Indians']['bowler'].unique()"
   ]
  },
  {
   "cell_type": "code",
   "execution_count": 11,
   "id": "genetic-faith",
   "metadata": {},
   "outputs": [
    {
     "data": {
      "text/plain": [
       "array(['W Jaffer', 'JH Kallis', 'CL White', 'MV Boucher', 'R Dravid',\n",
       "       'V Kohli', 'P Kumar', 'Z Khan', 'SB Joshi', 'AA Noffke', 'B Akhil',\n",
       "       'LRPL Taylor', 'S Chanderpaul', 'R Vinay Kumar', 'DW Steyn',\n",
       "       'B Chipli', 'Misbah-ul-Haq', 'DT Patil', 'A Kumble', 'J Arunkumar',\n",
       "       'Abdur Razzak', 'SP Goswami', 'KP Pietersen', 'RV Uthappa',\n",
       "       'JD Ryder', 'R Bishnoi', 'KV Sharma', 'Pankaj Singh', 'MK Pandey',\n",
       "       'RE van der Merwe', 'KP Appanna', 'D du Preez', 'EJG Morgan',\n",
       "       'A Mithun', 'S Sriram', 'MA Agarwal', 'AB de Villiers',\n",
       "       'TM Dilshan', 'SS Tiwary', 'AUK Pathan', 'S Aravind', 'CA Pujara',\n",
       "       'JJ van der Wath', 'R Ninan', 'DL Vettori', 'CH Gayle',\n",
       "       'J Syed Mohammad', 'M Kaif', 'LA Pomersbach', 'KB Arun Karthik',\n",
       "       'CK Langeveldt', 'AB McDonald', 'HV Patel', 'RR Bhatkal',\n",
       "       'M Muralitharan', 'P Parameswaran', 'DT Christian', 'KK Nair',\n",
       "       'MC Henriques', 'M Kartik', 'JD Unadkat', 'R Rampaul', 'KL Rahul',\n",
       "       'A Mukund', 'PA Patel', 'NJ Maddinson', 'Yuvraj Singh',\n",
       "       'YV Takawale', 'JA Morkel', 'MA Starc', 'AB Dinda', 'S Rana',\n",
       "       'VR Aaron', 'RR Rossouw', 'YS Chahal', 'VH Zol', 'AN Ahmed',\n",
       "       'DJG Sammy', 'SA Abbott', 'Mandeep Singh', 'KD Karthik', 'D Wiese',\n",
       "       'Iqbal Abdulla', 'MS Bisla', 'SN Khan', 'SR Watson', 'KM Jadhav',\n",
       "       'STR Binny', 'TM Head', 'KW Richardson', 'Sachin Baby',\n",
       "       'Parvez Rasool', 'CJ Jordan', 'TS Mills', 'A Choudhary', 'P Negi',\n",
       "       'Vishnu Vinod', 'AF Milne', 'S Badree', 'CR Woakes', 'BB McCullum',\n",
       "       'Q de Kock', 'Washington Sundar', 'CJ Anderson', 'Mohammed Siraj',\n",
       "       'UT Yadav', 'M Vohra', 'C de Grandhomme', 'TG Southee', 'M Ashwin',\n",
       "       'MM Ali', 'SO Hetmyer', 'S Dube', 'NA Saini', 'P Ray Barman',\n",
       "       'MP Stoinis', 'AD Nath', 'Gurkeerat Singh', 'H Klaasen',\n",
       "       'AJ Finch', 'D Padikkal', 'JR Philippe', 'I Udana', 'CH Morris',\n",
       "       'Shahbaz Ahmed', 'RM Patidar', 'GJ Maxwell', 'KA Jamieson',\n",
       "       'DR Sams'], dtype=object)"
      ]
     },
     "execution_count": 11,
     "metadata": {},
     "output_type": "execute_result"
    }
   ],
   "source": [
    "df[df.batting_team == 'Royal Challengers Bangalore']['striker'].unique()"
   ]
  },
  {
   "cell_type": "markdown",
   "id": "southern-anatomy",
   "metadata": {},
   "source": [
    "## Step - 2"
   ]
  },
  {
   "cell_type": "code",
   "execution_count": 12,
   "id": "vanilla-novel",
   "metadata": {},
   "outputs": [],
   "source": [
    "req_df = df[(df.striker == 'AB de Villiers') & (df.bowler == 'JJ Bumrah')]"
   ]
  },
  {
   "cell_type": "code",
   "execution_count": 13,
   "id": "reflected-particle",
   "metadata": {},
   "outputs": [
    {
     "data": {
      "text/html": [
       "<div>\n",
       "<style scoped>\n",
       "    .dataframe tbody tr th:only-of-type {\n",
       "        vertical-align: middle;\n",
       "    }\n",
       "\n",
       "    .dataframe tbody tr th {\n",
       "        vertical-align: top;\n",
       "    }\n",
       "\n",
       "    .dataframe thead th {\n",
       "        text-align: right;\n",
       "    }\n",
       "</style>\n",
       "<table border=\"1\" class=\"dataframe\">\n",
       "  <thead>\n",
       "    <tr style=\"text-align: right;\">\n",
       "      <th></th>\n",
       "      <th>match_id</th>\n",
       "      <th>season</th>\n",
       "      <th>start_date</th>\n",
       "      <th>venue</th>\n",
       "      <th>innings</th>\n",
       "      <th>ball</th>\n",
       "      <th>batting_team</th>\n",
       "      <th>bowling_team</th>\n",
       "      <th>striker</th>\n",
       "      <th>non_striker</th>\n",
       "      <th>bowler</th>\n",
       "      <th>runs_off_bat</th>\n",
       "      <th>extras</th>\n",
       "      <th>wides</th>\n",
       "      <th>noballs</th>\n",
       "      <th>byes</th>\n",
       "      <th>legbyes</th>\n",
       "      <th>penalty</th>\n",
       "      <th>wicket_type</th>\n",
       "      <th>player_dismissed</th>\n",
       "      <th>other_wicket_type</th>\n",
       "      <th>other_player_dismissed</th>\n",
       "    </tr>\n",
       "  </thead>\n",
       "  <tbody>\n",
       "    <tr>\n",
       "      <th>95889</th>\n",
       "      <td>729287</td>\n",
       "      <td>2014</td>\n",
       "      <td>2014-04-19</td>\n",
       "      <td>Dubai International Cricket Stadium</td>\n",
       "      <td>2</td>\n",
       "      <td>11.6</td>\n",
       "      <td>Royal Challengers Bangalore</td>\n",
       "      <td>Mumbai Indians</td>\n",
       "      <td>AB de Villiers</td>\n",
       "      <td>PA Patel</td>\n",
       "      <td>JJ Bumrah</td>\n",
       "      <td>0</td>\n",
       "      <td>0</td>\n",
       "      <td>NaN</td>\n",
       "      <td>NaN</td>\n",
       "      <td>NaN</td>\n",
       "      <td>NaN</td>\n",
       "      <td>NaN</td>\n",
       "      <td>NaN</td>\n",
       "      <td>NaN</td>\n",
       "      <td>NaN</td>\n",
       "      <td>NaN</td>\n",
       "    </tr>\n",
       "    <tr>\n",
       "      <th>95890</th>\n",
       "      <td>729287</td>\n",
       "      <td>2014</td>\n",
       "      <td>2014-04-19</td>\n",
       "      <td>Dubai International Cricket Stadium</td>\n",
       "      <td>2</td>\n",
       "      <td>11.5</td>\n",
       "      <td>Royal Challengers Bangalore</td>\n",
       "      <td>Mumbai Indians</td>\n",
       "      <td>AB de Villiers</td>\n",
       "      <td>PA Patel</td>\n",
       "      <td>JJ Bumrah</td>\n",
       "      <td>0</td>\n",
       "      <td>0</td>\n",
       "      <td>NaN</td>\n",
       "      <td>NaN</td>\n",
       "      <td>NaN</td>\n",
       "      <td>NaN</td>\n",
       "      <td>NaN</td>\n",
       "      <td>NaN</td>\n",
       "      <td>NaN</td>\n",
       "      <td>NaN</td>\n",
       "      <td>NaN</td>\n",
       "    </tr>\n",
       "    <tr>\n",
       "      <th>95892</th>\n",
       "      <td>729287</td>\n",
       "      <td>2014</td>\n",
       "      <td>2014-04-19</td>\n",
       "      <td>Dubai International Cricket Stadium</td>\n",
       "      <td>2</td>\n",
       "      <td>11.3</td>\n",
       "      <td>Royal Challengers Bangalore</td>\n",
       "      <td>Mumbai Indians</td>\n",
       "      <td>AB de Villiers</td>\n",
       "      <td>PA Patel</td>\n",
       "      <td>JJ Bumrah</td>\n",
       "      <td>1</td>\n",
       "      <td>0</td>\n",
       "      <td>NaN</td>\n",
       "      <td>NaN</td>\n",
       "      <td>NaN</td>\n",
       "      <td>NaN</td>\n",
       "      <td>NaN</td>\n",
       "      <td>NaN</td>\n",
       "      <td>NaN</td>\n",
       "      <td>NaN</td>\n",
       "      <td>NaN</td>\n",
       "    </tr>\n",
       "    <tr>\n",
       "      <th>95893</th>\n",
       "      <td>729287</td>\n",
       "      <td>2014</td>\n",
       "      <td>2014-04-19</td>\n",
       "      <td>Dubai International Cricket Stadium</td>\n",
       "      <td>2</td>\n",
       "      <td>11.2</td>\n",
       "      <td>Royal Challengers Bangalore</td>\n",
       "      <td>Mumbai Indians</td>\n",
       "      <td>AB de Villiers</td>\n",
       "      <td>PA Patel</td>\n",
       "      <td>JJ Bumrah</td>\n",
       "      <td>0</td>\n",
       "      <td>0</td>\n",
       "      <td>NaN</td>\n",
       "      <td>NaN</td>\n",
       "      <td>NaN</td>\n",
       "      <td>NaN</td>\n",
       "      <td>NaN</td>\n",
       "      <td>NaN</td>\n",
       "      <td>NaN</td>\n",
       "      <td>NaN</td>\n",
       "      <td>NaN</td>\n",
       "    </tr>\n",
       "    <tr>\n",
       "      <th>95894</th>\n",
       "      <td>729287</td>\n",
       "      <td>2014</td>\n",
       "      <td>2014-04-19</td>\n",
       "      <td>Dubai International Cricket Stadium</td>\n",
       "      <td>2</td>\n",
       "      <td>11.1</td>\n",
       "      <td>Royal Challengers Bangalore</td>\n",
       "      <td>Mumbai Indians</td>\n",
       "      <td>AB de Villiers</td>\n",
       "      <td>PA Patel</td>\n",
       "      <td>JJ Bumrah</td>\n",
       "      <td>6</td>\n",
       "      <td>0</td>\n",
       "      <td>NaN</td>\n",
       "      <td>NaN</td>\n",
       "      <td>NaN</td>\n",
       "      <td>NaN</td>\n",
       "      <td>NaN</td>\n",
       "      <td>NaN</td>\n",
       "      <td>NaN</td>\n",
       "      <td>NaN</td>\n",
       "      <td>NaN</td>\n",
       "    </tr>\n",
       "  </tbody>\n",
       "</table>\n",
       "</div>"
      ],
      "text/plain": [
       "       match_id  season  start_date                                venue  innings  ball                 batting_team    bowling_team         striker non_striker     bowler  runs_off_bat  extras  wides  noballs  byes  legbyes  penalty wicket_type player_dismissed  other_wicket_type  other_player_dismissed\n",
       "95889  729287    2014    2014-04-19  Dubai International Cricket Stadium  2        11.6  Royal Challengers Bangalore  Mumbai Indians  AB de Villiers  PA Patel    JJ Bumrah  0             0      NaN    NaN      NaN   NaN      NaN       NaN         NaN             NaN                NaN                    \n",
       "95890  729287    2014    2014-04-19  Dubai International Cricket Stadium  2        11.5  Royal Challengers Bangalore  Mumbai Indians  AB de Villiers  PA Patel    JJ Bumrah  0             0      NaN    NaN      NaN   NaN      NaN       NaN         NaN             NaN                NaN                    \n",
       "95892  729287    2014    2014-04-19  Dubai International Cricket Stadium  2        11.3  Royal Challengers Bangalore  Mumbai Indians  AB de Villiers  PA Patel    JJ Bumrah  1             0      NaN    NaN      NaN   NaN      NaN       NaN         NaN             NaN                NaN                    \n",
       "95893  729287    2014    2014-04-19  Dubai International Cricket Stadium  2        11.2  Royal Challengers Bangalore  Mumbai Indians  AB de Villiers  PA Patel    JJ Bumrah  0             0      NaN    NaN      NaN   NaN      NaN       NaN         NaN             NaN                NaN                    \n",
       "95894  729287    2014    2014-04-19  Dubai International Cricket Stadium  2        11.1  Royal Challengers Bangalore  Mumbai Indians  AB de Villiers  PA Patel    JJ Bumrah  6             0      NaN    NaN      NaN   NaN      NaN       NaN         NaN             NaN                NaN                    "
      ]
     },
     "execution_count": 13,
     "metadata": {},
     "output_type": "execute_result"
    }
   ],
   "source": [
    "req_df.head()"
   ]
  },
  {
   "cell_type": "markdown",
   "id": "seasonal-arlington",
   "metadata": {},
   "source": [
    "## Step - 3\n",
    "- No of runs scored?\n",
    "- No of balls faced?\n",
    "- No of times dismissed?"
   ]
  },
  {
   "cell_type": "code",
   "execution_count": 14,
   "id": "loose-default",
   "metadata": {},
   "outputs": [
    {
     "data": {
      "text/plain": [
       "114"
      ]
     },
     "execution_count": 14,
     "metadata": {},
     "output_type": "execute_result"
    }
   ],
   "source": [
    "# Num of runs scored by abd against bhumra\n",
    "sum(req_df.runs_off_bat)"
   ]
  },
  {
   "cell_type": "code",
   "execution_count": 15,
   "id": "multiple-triangle",
   "metadata": {},
   "outputs": [
    {
     "data": {
      "text/plain": [
       "79"
      ]
     },
     "execution_count": 15,
     "metadata": {},
     "output_type": "execute_result"
    }
   ],
   "source": [
    "# ball faced\n",
    "len(req_df) # counts the no. of rows of req_df it is what no. of balls faced"
   ]
  },
  {
   "cell_type": "code",
   "execution_count": 16,
   "id": "indirect-longitude",
   "metadata": {},
   "outputs": [
    {
     "data": {
      "text/plain": [
       "2"
      ]
     },
     "execution_count": 16,
     "metadata": {},
     "output_type": "execute_result"
    }
   ],
   "source": [
    "# outs\n",
    "len(req_df[req_df.player_dismissed == 'AB de Villiers'])"
   ]
  },
  {
   "cell_type": "code",
   "execution_count": 17,
   "id": "affected-semiconductor",
   "metadata": {},
   "outputs": [
    {
     "data": {
      "text/plain": [
       "144.30379746835442"
      ]
     },
     "execution_count": 17,
     "metadata": {},
     "output_type": "execute_result"
    }
   ],
   "source": [
    "# Strike rate\n",
    "100*sum(req_df.runs_off_bat)/len(req_df)"
   ]
  },
  {
   "cell_type": "code",
   "execution_count": 18,
   "id": "golden-celebrity",
   "metadata": {},
   "outputs": [],
   "source": [
    "# Comparing aginst all batsman Bhumra has bowled to"
   ]
  },
  {
   "cell_type": "code",
   "execution_count": 19,
   "id": "biological-proposition",
   "metadata": {},
   "outputs": [
    {
     "data": {
      "text/html": [
       "<div>\n",
       "<style scoped>\n",
       "    .dataframe tbody tr th:only-of-type {\n",
       "        vertical-align: middle;\n",
       "    }\n",
       "\n",
       "    .dataframe tbody tr th {\n",
       "        vertical-align: top;\n",
       "    }\n",
       "\n",
       "    .dataframe thead th {\n",
       "        text-align: right;\n",
       "    }\n",
       "</style>\n",
       "<table border=\"1\" class=\"dataframe\">\n",
       "  <thead>\n",
       "    <tr style=\"text-align: right;\">\n",
       "      <th></th>\n",
       "      <th>match_id</th>\n",
       "      <th>season</th>\n",
       "      <th>start_date</th>\n",
       "      <th>venue</th>\n",
       "      <th>innings</th>\n",
       "      <th>ball</th>\n",
       "      <th>batting_team</th>\n",
       "      <th>bowling_team</th>\n",
       "      <th>striker</th>\n",
       "      <th>non_striker</th>\n",
       "      <th>bowler</th>\n",
       "      <th>runs_off_bat</th>\n",
       "      <th>extras</th>\n",
       "      <th>wides</th>\n",
       "      <th>noballs</th>\n",
       "      <th>byes</th>\n",
       "      <th>legbyes</th>\n",
       "      <th>penalty</th>\n",
       "      <th>wicket_type</th>\n",
       "      <th>player_dismissed</th>\n",
       "      <th>other_wicket_type</th>\n",
       "      <th>other_player_dismissed</th>\n",
       "    </tr>\n",
       "  </thead>\n",
       "  <tbody>\n",
       "    <tr>\n",
       "      <th>0</th>\n",
       "      <td>335982</td>\n",
       "      <td>2008</td>\n",
       "      <td>2008-04-18</td>\n",
       "      <td>M Chinnaswamy Stadium</td>\n",
       "      <td>1</td>\n",
       "      <td>0.1</td>\n",
       "      <td>Kolkata Knight Riders</td>\n",
       "      <td>Royal Challengers Bangalore</td>\n",
       "      <td>SC Ganguly</td>\n",
       "      <td>BB McCullum</td>\n",
       "      <td>P Kumar</td>\n",
       "      <td>0</td>\n",
       "      <td>1</td>\n",
       "      <td>NaN</td>\n",
       "      <td>NaN</td>\n",
       "      <td>NaN</td>\n",
       "      <td>1.0</td>\n",
       "      <td>NaN</td>\n",
       "      <td>NaN</td>\n",
       "      <td>NaN</td>\n",
       "      <td>NaN</td>\n",
       "      <td>NaN</td>\n",
       "    </tr>\n",
       "  </tbody>\n",
       "</table>\n",
       "</div>"
      ],
      "text/plain": [
       "   match_id  season  start_date                  venue  innings  ball           batting_team                 bowling_team     striker  non_striker   bowler  runs_off_bat  extras  wides  noballs  byes  legbyes  penalty wicket_type player_dismissed  other_wicket_type  other_player_dismissed\n",
       "0  335982    2008    2008-04-18  M Chinnaswamy Stadium  1        0.1   Kolkata Knight Riders  Royal Challengers Bangalore  SC Ganguly  BB McCullum  P Kumar  0             1      NaN    NaN      NaN    1.0     NaN       NaN         NaN             NaN                NaN                    "
      ]
     },
     "execution_count": 19,
     "metadata": {},
     "output_type": "execute_result"
    }
   ],
   "source": [
    "df.head(1)"
   ]
  },
  {
   "cell_type": "code",
   "execution_count": 20,
   "id": "regulation-nerve",
   "metadata": {},
   "outputs": [],
   "source": [
    "bumrah_df = df[df.bowler=='JJ Bumrah']"
   ]
  },
  {
   "cell_type": "code",
   "execution_count": 21,
   "id": "later-illness",
   "metadata": {},
   "outputs": [
    {
     "data": {
      "text/html": [
       "<div>\n",
       "<style scoped>\n",
       "    .dataframe tbody tr th:only-of-type {\n",
       "        vertical-align: middle;\n",
       "    }\n",
       "\n",
       "    .dataframe tbody tr th {\n",
       "        vertical-align: top;\n",
       "    }\n",
       "\n",
       "    .dataframe thead th {\n",
       "        text-align: right;\n",
       "    }\n",
       "</style>\n",
       "<table border=\"1\" class=\"dataframe\">\n",
       "  <thead>\n",
       "    <tr style=\"text-align: right;\">\n",
       "      <th></th>\n",
       "      <th>match_id</th>\n",
       "      <th>season</th>\n",
       "      <th>start_date</th>\n",
       "      <th>venue</th>\n",
       "      <th>innings</th>\n",
       "      <th>ball</th>\n",
       "      <th>batting_team</th>\n",
       "      <th>bowling_team</th>\n",
       "      <th>striker</th>\n",
       "      <th>non_striker</th>\n",
       "      <th>bowler</th>\n",
       "      <th>runs_off_bat</th>\n",
       "      <th>extras</th>\n",
       "      <th>wides</th>\n",
       "      <th>noballs</th>\n",
       "      <th>byes</th>\n",
       "      <th>legbyes</th>\n",
       "      <th>penalty</th>\n",
       "      <th>wicket_type</th>\n",
       "      <th>player_dismissed</th>\n",
       "      <th>other_wicket_type</th>\n",
       "      <th>other_player_dismissed</th>\n",
       "    </tr>\n",
       "  </thead>\n",
       "  <tbody>\n",
       "    <tr>\n",
       "      <th>76731</th>\n",
       "      <td>597999</td>\n",
       "      <td>2013</td>\n",
       "      <td>2013-04-04</td>\n",
       "      <td>M Chinnaswamy Stadium</td>\n",
       "      <td>1</td>\n",
       "      <td>6.1</td>\n",
       "      <td>Royal Challengers Bangalore</td>\n",
       "      <td>Mumbai Indians</td>\n",
       "      <td>MA Agarwal</td>\n",
       "      <td>CH Gayle</td>\n",
       "      <td>JJ Bumrah</td>\n",
       "      <td>0</td>\n",
       "      <td>0</td>\n",
       "      <td>NaN</td>\n",
       "      <td>NaN</td>\n",
       "      <td>NaN</td>\n",
       "      <td>NaN</td>\n",
       "      <td>NaN</td>\n",
       "      <td>caught</td>\n",
       "      <td>MA Agarwal</td>\n",
       "      <td>NaN</td>\n",
       "      <td>NaN</td>\n",
       "    </tr>\n",
       "    <tr>\n",
       "      <th>76732</th>\n",
       "      <td>597999</td>\n",
       "      <td>2013</td>\n",
       "      <td>2013-04-04</td>\n",
       "      <td>M Chinnaswamy Stadium</td>\n",
       "      <td>1</td>\n",
       "      <td>6.2</td>\n",
       "      <td>Royal Challengers Bangalore</td>\n",
       "      <td>Mumbai Indians</td>\n",
       "      <td>DT Christian</td>\n",
       "      <td>CH Gayle</td>\n",
       "      <td>JJ Bumrah</td>\n",
       "      <td>0</td>\n",
       "      <td>0</td>\n",
       "      <td>NaN</td>\n",
       "      <td>NaN</td>\n",
       "      <td>NaN</td>\n",
       "      <td>NaN</td>\n",
       "      <td>NaN</td>\n",
       "      <td>NaN</td>\n",
       "      <td>NaN</td>\n",
       "      <td>NaN</td>\n",
       "      <td>NaN</td>\n",
       "    </tr>\n",
       "    <tr>\n",
       "      <th>76733</th>\n",
       "      <td>597999</td>\n",
       "      <td>2013</td>\n",
       "      <td>2013-04-04</td>\n",
       "      <td>M Chinnaswamy Stadium</td>\n",
       "      <td>1</td>\n",
       "      <td>6.3</td>\n",
       "      <td>Royal Challengers Bangalore</td>\n",
       "      <td>Mumbai Indians</td>\n",
       "      <td>DT Christian</td>\n",
       "      <td>CH Gayle</td>\n",
       "      <td>JJ Bumrah</td>\n",
       "      <td>0</td>\n",
       "      <td>0</td>\n",
       "      <td>NaN</td>\n",
       "      <td>NaN</td>\n",
       "      <td>NaN</td>\n",
       "      <td>NaN</td>\n",
       "      <td>NaN</td>\n",
       "      <td>NaN</td>\n",
       "      <td>NaN</td>\n",
       "      <td>NaN</td>\n",
       "      <td>NaN</td>\n",
       "    </tr>\n",
       "    <tr>\n",
       "      <th>76734</th>\n",
       "      <td>597999</td>\n",
       "      <td>2013</td>\n",
       "      <td>2013-04-04</td>\n",
       "      <td>M Chinnaswamy Stadium</td>\n",
       "      <td>1</td>\n",
       "      <td>6.4</td>\n",
       "      <td>Royal Challengers Bangalore</td>\n",
       "      <td>Mumbai Indians</td>\n",
       "      <td>DT Christian</td>\n",
       "      <td>CH Gayle</td>\n",
       "      <td>JJ Bumrah</td>\n",
       "      <td>1</td>\n",
       "      <td>0</td>\n",
       "      <td>NaN</td>\n",
       "      <td>NaN</td>\n",
       "      <td>NaN</td>\n",
       "      <td>NaN</td>\n",
       "      <td>NaN</td>\n",
       "      <td>NaN</td>\n",
       "      <td>NaN</td>\n",
       "      <td>NaN</td>\n",
       "      <td>NaN</td>\n",
       "    </tr>\n",
       "    <tr>\n",
       "      <th>76735</th>\n",
       "      <td>597999</td>\n",
       "      <td>2013</td>\n",
       "      <td>2013-04-04</td>\n",
       "      <td>M Chinnaswamy Stadium</td>\n",
       "      <td>1</td>\n",
       "      <td>6.5</td>\n",
       "      <td>Royal Challengers Bangalore</td>\n",
       "      <td>Mumbai Indians</td>\n",
       "      <td>CH Gayle</td>\n",
       "      <td>DT Christian</td>\n",
       "      <td>JJ Bumrah</td>\n",
       "      <td>0</td>\n",
       "      <td>0</td>\n",
       "      <td>NaN</td>\n",
       "      <td>NaN</td>\n",
       "      <td>NaN</td>\n",
       "      <td>NaN</td>\n",
       "      <td>NaN</td>\n",
       "      <td>NaN</td>\n",
       "      <td>NaN</td>\n",
       "      <td>NaN</td>\n",
       "      <td>NaN</td>\n",
       "    </tr>\n",
       "  </tbody>\n",
       "</table>\n",
       "</div>"
      ],
      "text/plain": [
       "       match_id  season  start_date                  venue  innings  ball                 batting_team    bowling_team       striker   non_striker     bowler  runs_off_bat  extras  wides  noballs  byes  legbyes  penalty wicket_type player_dismissed  other_wicket_type  other_player_dismissed\n",
       "76731  597999    2013    2013-04-04  M Chinnaswamy Stadium  1        6.1   Royal Challengers Bangalore  Mumbai Indians  MA Agarwal    CH Gayle      JJ Bumrah  0             0      NaN    NaN      NaN   NaN      NaN       caught      MA Agarwal      NaN                NaN                    \n",
       "76732  597999    2013    2013-04-04  M Chinnaswamy Stadium  1        6.2   Royal Challengers Bangalore  Mumbai Indians  DT Christian  CH Gayle      JJ Bumrah  0             0      NaN    NaN      NaN   NaN      NaN       NaN         NaN             NaN                NaN                    \n",
       "76733  597999    2013    2013-04-04  M Chinnaswamy Stadium  1        6.3   Royal Challengers Bangalore  Mumbai Indians  DT Christian  CH Gayle      JJ Bumrah  0             0      NaN    NaN      NaN   NaN      NaN       NaN         NaN             NaN                NaN                    \n",
       "76734  597999    2013    2013-04-04  M Chinnaswamy Stadium  1        6.4   Royal Challengers Bangalore  Mumbai Indians  DT Christian  CH Gayle      JJ Bumrah  1             0      NaN    NaN      NaN   NaN      NaN       NaN         NaN             NaN                NaN                    \n",
       "76735  597999    2013    2013-04-04  M Chinnaswamy Stadium  1        6.5   Royal Challengers Bangalore  Mumbai Indians  CH Gayle      DT Christian  JJ Bumrah  0             0      NaN    NaN      NaN   NaN      NaN       NaN         NaN             NaN                NaN                    "
      ]
     },
     "execution_count": 21,
     "metadata": {},
     "output_type": "execute_result"
    }
   ],
   "source": [
    "bumrah_df.head()"
   ]
  },
  {
   "cell_type": "code",
   "execution_count": 22,
   "id": "legendary-timer",
   "metadata": {},
   "outputs": [],
   "source": [
    "# Total run scored by a batsman aginst bumrah\n",
    "bdf1 = pd.DataFrame(bumrah_df.groupby('striker')['runs_off_bat'].sum()).reset_index()"
   ]
  },
  {
   "cell_type": "code",
   "execution_count": 23,
   "id": "military-facing",
   "metadata": {},
   "outputs": [],
   "source": [
    "# Total ball faced by a batsman against bumrah\n",
    "bdf2 = pd.DataFrame(bumrah_df.groupby('striker')['ball'].count()).reset_index()"
   ]
  },
  {
   "cell_type": "code",
   "execution_count": 24,
   "id": "spread-sight",
   "metadata": {},
   "outputs": [
    {
     "data": {
      "text/html": [
       "<div>\n",
       "<style scoped>\n",
       "    .dataframe tbody tr th:only-of-type {\n",
       "        vertical-align: middle;\n",
       "    }\n",
       "\n",
       "    .dataframe tbody tr th {\n",
       "        vertical-align: top;\n",
       "    }\n",
       "\n",
       "    .dataframe thead th {\n",
       "        text-align: right;\n",
       "    }\n",
       "</style>\n",
       "<table border=\"1\" class=\"dataframe\">\n",
       "  <thead>\n",
       "    <tr style=\"text-align: right;\">\n",
       "      <th></th>\n",
       "      <th>striker</th>\n",
       "      <th>runs_off_bat</th>\n",
       "    </tr>\n",
       "  </thead>\n",
       "  <tbody>\n",
       "    <tr>\n",
       "      <th>0</th>\n",
       "      <td>A Mishra</td>\n",
       "      <td>1</td>\n",
       "    </tr>\n",
       "    <tr>\n",
       "      <th>1</th>\n",
       "      <td>AB de Villiers</td>\n",
       "      <td>114</td>\n",
       "    </tr>\n",
       "    <tr>\n",
       "      <th>2</th>\n",
       "      <td>AD Nath</td>\n",
       "      <td>4</td>\n",
       "    </tr>\n",
       "    <tr>\n",
       "      <th>3</th>\n",
       "      <td>AD Russell</td>\n",
       "      <td>51</td>\n",
       "    </tr>\n",
       "    <tr>\n",
       "      <th>4</th>\n",
       "      <td>AJ Finch</td>\n",
       "      <td>24</td>\n",
       "    </tr>\n",
       "  </tbody>\n",
       "</table>\n",
       "</div>"
      ],
      "text/plain": [
       "          striker  runs_off_bat\n",
       "0  A Mishra        1           \n",
       "1  AB de Villiers  114         \n",
       "2  AD Nath         4           \n",
       "3  AD Russell      51          \n",
       "4  AJ Finch        24          "
      ]
     },
     "execution_count": 24,
     "metadata": {},
     "output_type": "execute_result"
    }
   ],
   "source": [
    "bdf1.head()"
   ]
  },
  {
   "cell_type": "code",
   "execution_count": 25,
   "id": "ultimate-adobe",
   "metadata": {},
   "outputs": [
    {
     "data": {
      "text/html": [
       "<div>\n",
       "<style scoped>\n",
       "    .dataframe tbody tr th:only-of-type {\n",
       "        vertical-align: middle;\n",
       "    }\n",
       "\n",
       "    .dataframe tbody tr th {\n",
       "        vertical-align: top;\n",
       "    }\n",
       "\n",
       "    .dataframe thead th {\n",
       "        text-align: right;\n",
       "    }\n",
       "</style>\n",
       "<table border=\"1\" class=\"dataframe\">\n",
       "  <thead>\n",
       "    <tr style=\"text-align: right;\">\n",
       "      <th></th>\n",
       "      <th>striker</th>\n",
       "      <th>ball</th>\n",
       "    </tr>\n",
       "  </thead>\n",
       "  <tbody>\n",
       "    <tr>\n",
       "      <th>0</th>\n",
       "      <td>A Mishra</td>\n",
       "      <td>5</td>\n",
       "    </tr>\n",
       "    <tr>\n",
       "      <th>1</th>\n",
       "      <td>AB de Villiers</td>\n",
       "      <td>79</td>\n",
       "    </tr>\n",
       "    <tr>\n",
       "      <th>2</th>\n",
       "      <td>AD Nath</td>\n",
       "      <td>4</td>\n",
       "    </tr>\n",
       "    <tr>\n",
       "      <th>3</th>\n",
       "      <td>AD Russell</td>\n",
       "      <td>41</td>\n",
       "    </tr>\n",
       "    <tr>\n",
       "      <th>4</th>\n",
       "      <td>AJ Finch</td>\n",
       "      <td>29</td>\n",
       "    </tr>\n",
       "  </tbody>\n",
       "</table>\n",
       "</div>"
      ],
      "text/plain": [
       "          striker  ball\n",
       "0  A Mishra        5   \n",
       "1  AB de Villiers  79  \n",
       "2  AD Nath         4   \n",
       "3  AD Russell      41  \n",
       "4  AJ Finch        29  "
      ]
     },
     "execution_count": 25,
     "metadata": {},
     "output_type": "execute_result"
    }
   ],
   "source": [
    "bdf2.head()"
   ]
  },
  {
   "cell_type": "code",
   "execution_count": 26,
   "id": "irish-porcelain",
   "metadata": {},
   "outputs": [],
   "source": [
    "bdf3 = bdf1.merge(bdf2, on='striker', how='left')"
   ]
  },
  {
   "cell_type": "code",
   "execution_count": 27,
   "id": "upper-daughter",
   "metadata": {},
   "outputs": [
    {
     "data": {
      "text/html": [
       "<div>\n",
       "<style scoped>\n",
       "    .dataframe tbody tr th:only-of-type {\n",
       "        vertical-align: middle;\n",
       "    }\n",
       "\n",
       "    .dataframe tbody tr th {\n",
       "        vertical-align: top;\n",
       "    }\n",
       "\n",
       "    .dataframe thead th {\n",
       "        text-align: right;\n",
       "    }\n",
       "</style>\n",
       "<table border=\"1\" class=\"dataframe\">\n",
       "  <thead>\n",
       "    <tr style=\"text-align: right;\">\n",
       "      <th></th>\n",
       "      <th>striker</th>\n",
       "      <th>runs_off_bat</th>\n",
       "      <th>ball</th>\n",
       "    </tr>\n",
       "  </thead>\n",
       "  <tbody>\n",
       "    <tr>\n",
       "      <th>0</th>\n",
       "      <td>A Mishra</td>\n",
       "      <td>1</td>\n",
       "      <td>5</td>\n",
       "    </tr>\n",
       "    <tr>\n",
       "      <th>1</th>\n",
       "      <td>AB de Villiers</td>\n",
       "      <td>114</td>\n",
       "      <td>79</td>\n",
       "    </tr>\n",
       "    <tr>\n",
       "      <th>2</th>\n",
       "      <td>AD Nath</td>\n",
       "      <td>4</td>\n",
       "      <td>4</td>\n",
       "    </tr>\n",
       "    <tr>\n",
       "      <th>3</th>\n",
       "      <td>AD Russell</td>\n",
       "      <td>51</td>\n",
       "      <td>41</td>\n",
       "    </tr>\n",
       "    <tr>\n",
       "      <th>4</th>\n",
       "      <td>AJ Finch</td>\n",
       "      <td>24</td>\n",
       "      <td>29</td>\n",
       "    </tr>\n",
       "  </tbody>\n",
       "</table>\n",
       "</div>"
      ],
      "text/plain": [
       "          striker  runs_off_bat  ball\n",
       "0  A Mishra        1             5   \n",
       "1  AB de Villiers  114           79  \n",
       "2  AD Nath         4             4   \n",
       "3  AD Russell      51            41  \n",
       "4  AJ Finch        24            29  "
      ]
     },
     "execution_count": 27,
     "metadata": {},
     "output_type": "execute_result"
    }
   ],
   "source": [
    "bdf3.head()"
   ]
  },
  {
   "cell_type": "code",
   "execution_count": 28,
   "id": "vital-board",
   "metadata": {},
   "outputs": [],
   "source": [
    "bdf3['strike_rate'] = 100*bdf3.runs_off_bat/bdf3['ball']"
   ]
  },
  {
   "cell_type": "code",
   "execution_count": 29,
   "id": "adaptive-roman",
   "metadata": {},
   "outputs": [
    {
     "data": {
      "text/html": [
       "<div>\n",
       "<style scoped>\n",
       "    .dataframe tbody tr th:only-of-type {\n",
       "        vertical-align: middle;\n",
       "    }\n",
       "\n",
       "    .dataframe tbody tr th {\n",
       "        vertical-align: top;\n",
       "    }\n",
       "\n",
       "    .dataframe thead th {\n",
       "        text-align: right;\n",
       "    }\n",
       "</style>\n",
       "<table border=\"1\" class=\"dataframe\">\n",
       "  <thead>\n",
       "    <tr style=\"text-align: right;\">\n",
       "      <th></th>\n",
       "      <th>striker</th>\n",
       "      <th>runs_off_bat</th>\n",
       "      <th>ball</th>\n",
       "      <th>strike_rate</th>\n",
       "    </tr>\n",
       "  </thead>\n",
       "  <tbody>\n",
       "    <tr>\n",
       "      <th>0</th>\n",
       "      <td>A Mishra</td>\n",
       "      <td>1</td>\n",
       "      <td>5</td>\n",
       "      <td>20.000000</td>\n",
       "    </tr>\n",
       "    <tr>\n",
       "      <th>1</th>\n",
       "      <td>AB de Villiers</td>\n",
       "      <td>114</td>\n",
       "      <td>79</td>\n",
       "      <td>144.303797</td>\n",
       "    </tr>\n",
       "  </tbody>\n",
       "</table>\n",
       "</div>"
      ],
      "text/plain": [
       "          striker  runs_off_bat  ball  strike_rate\n",
       "0  A Mishra        1             5     20.000000  \n",
       "1  AB de Villiers  114           79    144.303797 "
      ]
     },
     "execution_count": 29,
     "metadata": {},
     "output_type": "execute_result"
    }
   ],
   "source": [
    "bdf3.head(2)"
   ]
  },
  {
   "cell_type": "code",
   "execution_count": 30,
   "id": "fossil-plant",
   "metadata": {},
   "outputs": [],
   "source": [
    "# min criteria of 30 balls\n",
    "bdf3 = bdf3[bdf3.ball >= 30]"
   ]
  },
  {
   "cell_type": "code",
   "execution_count": 31,
   "id": "engaged-bacon",
   "metadata": {},
   "outputs": [
    {
     "data": {
      "text/html": [
       "<div>\n",
       "<style scoped>\n",
       "    .dataframe tbody tr th:only-of-type {\n",
       "        vertical-align: middle;\n",
       "    }\n",
       "\n",
       "    .dataframe tbody tr th {\n",
       "        vertical-align: top;\n",
       "    }\n",
       "\n",
       "    .dataframe thead th {\n",
       "        text-align: right;\n",
       "    }\n",
       "</style>\n",
       "<table border=\"1\" class=\"dataframe\">\n",
       "  <thead>\n",
       "    <tr style=\"text-align: right;\">\n",
       "      <th></th>\n",
       "      <th>striker</th>\n",
       "      <th>runs_off_bat</th>\n",
       "      <th>ball</th>\n",
       "      <th>strike_rate</th>\n",
       "    </tr>\n",
       "  </thead>\n",
       "  <tbody>\n",
       "    <tr>\n",
       "      <th>1</th>\n",
       "      <td>AB de Villiers</td>\n",
       "      <td>114</td>\n",
       "      <td>79</td>\n",
       "      <td>144.303797</td>\n",
       "    </tr>\n",
       "    <tr>\n",
       "      <th>3</th>\n",
       "      <td>AD Russell</td>\n",
       "      <td>51</td>\n",
       "      <td>41</td>\n",
       "      <td>124.390244</td>\n",
       "    </tr>\n",
       "    <tr>\n",
       "      <th>7</th>\n",
       "      <td>AM Rahane</td>\n",
       "      <td>43</td>\n",
       "      <td>35</td>\n",
       "      <td>122.857143</td>\n",
       "    </tr>\n",
       "    <tr>\n",
       "      <th>8</th>\n",
       "      <td>AR Patel</td>\n",
       "      <td>21</td>\n",
       "      <td>32</td>\n",
       "      <td>65.625000</td>\n",
       "    </tr>\n",
       "    <tr>\n",
       "      <th>11</th>\n",
       "      <td>AT Rayudu</td>\n",
       "      <td>48</td>\n",
       "      <td>34</td>\n",
       "      <td>141.176471</td>\n",
       "    </tr>\n",
       "  </tbody>\n",
       "</table>\n",
       "</div>"
      ],
      "text/plain": [
       "           striker  runs_off_bat  ball  strike_rate\n",
       "1   AB de Villiers  114           79    144.303797 \n",
       "3   AD Russell      51            41    124.390244 \n",
       "7   AM Rahane       43            35    122.857143 \n",
       "8   AR Patel        21            32    65.625000  \n",
       "11  AT Rayudu       48            34    141.176471 "
      ]
     },
     "execution_count": 31,
     "metadata": {},
     "output_type": "execute_result"
    }
   ],
   "source": [
    "# bhumra against other batsman\n",
    "bdf3.head()"
   ]
  },
  {
   "cell_type": "code",
   "execution_count": 32,
   "id": "intelligent-meditation",
   "metadata": {},
   "outputs": [],
   "source": [
    "abd_df  = df[df.striker == 'AB de Villiers']"
   ]
  },
  {
   "cell_type": "code",
   "execution_count": 33,
   "id": "julian-valentine",
   "metadata": {},
   "outputs": [],
   "source": [
    "# run scored by abd against other bowlers\n",
    "adf1 = pd.DataFrame(abd_df.groupby('bowler')['runs_off_bat'].sum()).reset_index()"
   ]
  },
  {
   "cell_type": "code",
   "execution_count": 34,
   "id": "expanded-knowing",
   "metadata": {},
   "outputs": [
    {
     "data": {
      "text/html": [
       "<div>\n",
       "<style scoped>\n",
       "    .dataframe tbody tr th:only-of-type {\n",
       "        vertical-align: middle;\n",
       "    }\n",
       "\n",
       "    .dataframe tbody tr th {\n",
       "        vertical-align: top;\n",
       "    }\n",
       "\n",
       "    .dataframe thead th {\n",
       "        text-align: right;\n",
       "    }\n",
       "</style>\n",
       "<table border=\"1\" class=\"dataframe\">\n",
       "  <thead>\n",
       "    <tr style=\"text-align: right;\">\n",
       "      <th></th>\n",
       "      <th>bowler</th>\n",
       "      <th>runs_off_bat</th>\n",
       "    </tr>\n",
       "  </thead>\n",
       "  <tbody>\n",
       "    <tr>\n",
       "      <th>0</th>\n",
       "      <td>A Ashish Reddy</td>\n",
       "      <td>46</td>\n",
       "    </tr>\n",
       "    <tr>\n",
       "      <th>1</th>\n",
       "      <td>A Chandila</td>\n",
       "      <td>26</td>\n",
       "    </tr>\n",
       "    <tr>\n",
       "      <th>2</th>\n",
       "      <td>A Flintoff</td>\n",
       "      <td>34</td>\n",
       "    </tr>\n",
       "    <tr>\n",
       "      <th>3</th>\n",
       "      <td>A Kumble</td>\n",
       "      <td>39</td>\n",
       "    </tr>\n",
       "    <tr>\n",
       "      <th>4</th>\n",
       "      <td>A Mishra</td>\n",
       "      <td>40</td>\n",
       "    </tr>\n",
       "  </tbody>\n",
       "</table>\n",
       "</div>"
      ],
      "text/plain": [
       "           bowler  runs_off_bat\n",
       "0  A Ashish Reddy  46          \n",
       "1  A Chandila      26          \n",
       "2  A Flintoff      34          \n",
       "3  A Kumble        39          \n",
       "4  A Mishra        40          "
      ]
     },
     "execution_count": 34,
     "metadata": {},
     "output_type": "execute_result"
    }
   ],
   "source": [
    "adf1.head()"
   ]
  },
  {
   "cell_type": "code",
   "execution_count": 35,
   "id": "communist-seattle",
   "metadata": {},
   "outputs": [],
   "source": [
    "# ball faced by abd against other bowlers\n",
    "adf2 = pd.DataFrame(abd_df.groupby('bowler')['ball'].count()).reset_index()"
   ]
  },
  {
   "cell_type": "code",
   "execution_count": 36,
   "id": "concrete-spider",
   "metadata": {},
   "outputs": [
    {
     "data": {
      "text/html": [
       "<div>\n",
       "<style scoped>\n",
       "    .dataframe tbody tr th:only-of-type {\n",
       "        vertical-align: middle;\n",
       "    }\n",
       "\n",
       "    .dataframe tbody tr th {\n",
       "        vertical-align: top;\n",
       "    }\n",
       "\n",
       "    .dataframe thead th {\n",
       "        text-align: right;\n",
       "    }\n",
       "</style>\n",
       "<table border=\"1\" class=\"dataframe\">\n",
       "  <thead>\n",
       "    <tr style=\"text-align: right;\">\n",
       "      <th></th>\n",
       "      <th>bowler</th>\n",
       "      <th>ball</th>\n",
       "    </tr>\n",
       "  </thead>\n",
       "  <tbody>\n",
       "    <tr>\n",
       "      <th>0</th>\n",
       "      <td>A Ashish Reddy</td>\n",
       "      <td>18</td>\n",
       "    </tr>\n",
       "    <tr>\n",
       "      <th>1</th>\n",
       "      <td>A Chandila</td>\n",
       "      <td>11</td>\n",
       "    </tr>\n",
       "    <tr>\n",
       "      <th>2</th>\n",
       "      <td>A Flintoff</td>\n",
       "      <td>12</td>\n",
       "    </tr>\n",
       "    <tr>\n",
       "      <th>3</th>\n",
       "      <td>A Kumble</td>\n",
       "      <td>41</td>\n",
       "    </tr>\n",
       "    <tr>\n",
       "      <th>4</th>\n",
       "      <td>A Mishra</td>\n",
       "      <td>37</td>\n",
       "    </tr>\n",
       "  </tbody>\n",
       "</table>\n",
       "</div>"
      ],
      "text/plain": [
       "           bowler  ball\n",
       "0  A Ashish Reddy  18  \n",
       "1  A Chandila      11  \n",
       "2  A Flintoff      12  \n",
       "3  A Kumble        41  \n",
       "4  A Mishra        37  "
      ]
     },
     "execution_count": 36,
     "metadata": {},
     "output_type": "execute_result"
    }
   ],
   "source": [
    "adf2.head()"
   ]
  },
  {
   "cell_type": "code",
   "execution_count": 37,
   "id": "functioning-excitement",
   "metadata": {},
   "outputs": [],
   "source": [
    "adf3 = adf1.merge(adf2,on='bowler',how='left')"
   ]
  },
  {
   "cell_type": "code",
   "execution_count": 38,
   "id": "favorite-peninsula",
   "metadata": {},
   "outputs": [
    {
     "data": {
      "text/html": [
       "<div>\n",
       "<style scoped>\n",
       "    .dataframe tbody tr th:only-of-type {\n",
       "        vertical-align: middle;\n",
       "    }\n",
       "\n",
       "    .dataframe tbody tr th {\n",
       "        vertical-align: top;\n",
       "    }\n",
       "\n",
       "    .dataframe thead th {\n",
       "        text-align: right;\n",
       "    }\n",
       "</style>\n",
       "<table border=\"1\" class=\"dataframe\">\n",
       "  <thead>\n",
       "    <tr style=\"text-align: right;\">\n",
       "      <th></th>\n",
       "      <th>bowler</th>\n",
       "      <th>runs_off_bat</th>\n",
       "      <th>ball</th>\n",
       "    </tr>\n",
       "  </thead>\n",
       "  <tbody>\n",
       "    <tr>\n",
       "      <th>0</th>\n",
       "      <td>A Ashish Reddy</td>\n",
       "      <td>46</td>\n",
       "      <td>18</td>\n",
       "    </tr>\n",
       "    <tr>\n",
       "      <th>1</th>\n",
       "      <td>A Chandila</td>\n",
       "      <td>26</td>\n",
       "      <td>11</td>\n",
       "    </tr>\n",
       "    <tr>\n",
       "      <th>2</th>\n",
       "      <td>A Flintoff</td>\n",
       "      <td>34</td>\n",
       "      <td>12</td>\n",
       "    </tr>\n",
       "    <tr>\n",
       "      <th>3</th>\n",
       "      <td>A Kumble</td>\n",
       "      <td>39</td>\n",
       "      <td>41</td>\n",
       "    </tr>\n",
       "    <tr>\n",
       "      <th>4</th>\n",
       "      <td>A Mishra</td>\n",
       "      <td>40</td>\n",
       "      <td>37</td>\n",
       "    </tr>\n",
       "  </tbody>\n",
       "</table>\n",
       "</div>"
      ],
      "text/plain": [
       "           bowler  runs_off_bat  ball\n",
       "0  A Ashish Reddy  46            18  \n",
       "1  A Chandila      26            11  \n",
       "2  A Flintoff      34            12  \n",
       "3  A Kumble        39            41  \n",
       "4  A Mishra        40            37  "
      ]
     },
     "execution_count": 38,
     "metadata": {},
     "output_type": "execute_result"
    }
   ],
   "source": [
    "adf3.head()"
   ]
  },
  {
   "cell_type": "code",
   "execution_count": 39,
   "id": "brown-action",
   "metadata": {},
   "outputs": [],
   "source": [
    "adf3['strike_rate'] = 100*adf3['runs_off_bat']/adf3['ball']"
   ]
  },
  {
   "cell_type": "code",
   "execution_count": 40,
   "id": "sufficient-puppy",
   "metadata": {},
   "outputs": [
    {
     "data": {
      "text/html": [
       "<div>\n",
       "<style scoped>\n",
       "    .dataframe tbody tr th:only-of-type {\n",
       "        vertical-align: middle;\n",
       "    }\n",
       "\n",
       "    .dataframe tbody tr th {\n",
       "        vertical-align: top;\n",
       "    }\n",
       "\n",
       "    .dataframe thead th {\n",
       "        text-align: right;\n",
       "    }\n",
       "</style>\n",
       "<table border=\"1\" class=\"dataframe\">\n",
       "  <thead>\n",
       "    <tr style=\"text-align: right;\">\n",
       "      <th></th>\n",
       "      <th>bowler</th>\n",
       "      <th>runs_off_bat</th>\n",
       "      <th>ball</th>\n",
       "      <th>strike_rate</th>\n",
       "    </tr>\n",
       "  </thead>\n",
       "  <tbody>\n",
       "    <tr>\n",
       "      <th>0</th>\n",
       "      <td>A Ashish Reddy</td>\n",
       "      <td>46</td>\n",
       "      <td>18</td>\n",
       "      <td>255.555556</td>\n",
       "    </tr>\n",
       "    <tr>\n",
       "      <th>1</th>\n",
       "      <td>A Chandila</td>\n",
       "      <td>26</td>\n",
       "      <td>11</td>\n",
       "      <td>236.363636</td>\n",
       "    </tr>\n",
       "    <tr>\n",
       "      <th>2</th>\n",
       "      <td>A Flintoff</td>\n",
       "      <td>34</td>\n",
       "      <td>12</td>\n",
       "      <td>283.333333</td>\n",
       "    </tr>\n",
       "    <tr>\n",
       "      <th>3</th>\n",
       "      <td>A Kumble</td>\n",
       "      <td>39</td>\n",
       "      <td>41</td>\n",
       "      <td>95.121951</td>\n",
       "    </tr>\n",
       "    <tr>\n",
       "      <th>4</th>\n",
       "      <td>A Mishra</td>\n",
       "      <td>40</td>\n",
       "      <td>37</td>\n",
       "      <td>108.108108</td>\n",
       "    </tr>\n",
       "  </tbody>\n",
       "</table>\n",
       "</div>"
      ],
      "text/plain": [
       "           bowler  runs_off_bat  ball  strike_rate\n",
       "0  A Ashish Reddy  46            18    255.555556 \n",
       "1  A Chandila      26            11    236.363636 \n",
       "2  A Flintoff      34            12    283.333333 \n",
       "3  A Kumble        39            41    95.121951  \n",
       "4  A Mishra        40            37    108.108108 "
      ]
     },
     "execution_count": 40,
     "metadata": {},
     "output_type": "execute_result"
    }
   ],
   "source": [
    "adf3.head()"
   ]
  },
  {
   "cell_type": "code",
   "execution_count": 41,
   "id": "comparable-albania",
   "metadata": {},
   "outputs": [],
   "source": [
    "# min criteria of 30 balls"
   ]
  },
  {
   "cell_type": "code",
   "execution_count": 42,
   "id": "verified-fifty",
   "metadata": {},
   "outputs": [],
   "source": [
    "adf3 = adf3[adf3.ball >=30]"
   ]
  },
  {
   "cell_type": "code",
   "execution_count": 43,
   "id": "consecutive-century",
   "metadata": {},
   "outputs": [],
   "source": [
    "# bdf3(all batsman against bhumra),adf3(all bowlers against abd)"
   ]
  },
  {
   "cell_type": "code",
   "execution_count": 44,
   "id": "adjacent-spending",
   "metadata": {},
   "outputs": [],
   "source": [
    "bdf3.reset_index(inplace=True,drop=True)\n",
    "adf3.reset_index(inplace=True,drop=True)"
   ]
  },
  {
   "cell_type": "code",
   "execution_count": 45,
   "id": "fluid-special",
   "metadata": {},
   "outputs": [
    {
     "data": {
      "text/html": [
       "<div>\n",
       "<style scoped>\n",
       "    .dataframe tbody tr th:only-of-type {\n",
       "        vertical-align: middle;\n",
       "    }\n",
       "\n",
       "    .dataframe tbody tr th {\n",
       "        vertical-align: top;\n",
       "    }\n",
       "\n",
       "    .dataframe thead th {\n",
       "        text-align: right;\n",
       "    }\n",
       "</style>\n",
       "<table border=\"1\" class=\"dataframe\">\n",
       "  <thead>\n",
       "    <tr style=\"text-align: right;\">\n",
       "      <th></th>\n",
       "      <th>striker</th>\n",
       "      <th>runs_off_bat</th>\n",
       "      <th>ball</th>\n",
       "      <th>strike_rate</th>\n",
       "    </tr>\n",
       "  </thead>\n",
       "  <tbody>\n",
       "    <tr>\n",
       "      <th>0</th>\n",
       "      <td>AB de Villiers</td>\n",
       "      <td>114</td>\n",
       "      <td>79</td>\n",
       "      <td>144.303797</td>\n",
       "    </tr>\n",
       "    <tr>\n",
       "      <th>1</th>\n",
       "      <td>AD Russell</td>\n",
       "      <td>51</td>\n",
       "      <td>41</td>\n",
       "      <td>124.390244</td>\n",
       "    </tr>\n",
       "    <tr>\n",
       "      <th>2</th>\n",
       "      <td>AM Rahane</td>\n",
       "      <td>43</td>\n",
       "      <td>35</td>\n",
       "      <td>122.857143</td>\n",
       "    </tr>\n",
       "    <tr>\n",
       "      <th>3</th>\n",
       "      <td>AR Patel</td>\n",
       "      <td>21</td>\n",
       "      <td>32</td>\n",
       "      <td>65.625000</td>\n",
       "    </tr>\n",
       "    <tr>\n",
       "      <th>4</th>\n",
       "      <td>AT Rayudu</td>\n",
       "      <td>48</td>\n",
       "      <td>34</td>\n",
       "      <td>141.176471</td>\n",
       "    </tr>\n",
       "  </tbody>\n",
       "</table>\n",
       "</div>"
      ],
      "text/plain": [
       "          striker  runs_off_bat  ball  strike_rate\n",
       "0  AB de Villiers  114           79    144.303797 \n",
       "1  AD Russell      51            41    124.390244 \n",
       "2  AM Rahane       43            35    122.857143 \n",
       "3  AR Patel        21            32    65.625000  \n",
       "4  AT Rayudu       48            34    141.176471 "
      ]
     },
     "execution_count": 45,
     "metadata": {},
     "output_type": "execute_result"
    }
   ],
   "source": [
    "bdf3.head()"
   ]
  },
  {
   "cell_type": "code",
   "execution_count": 144,
   "id": "assumed-colorado",
   "metadata": {},
   "outputs": [],
   "source": [
    "# Batsmans having best strike_rate against bumrah\n",
    "# bdf3.sort_values('strike_rate',ascending=False)"
   ]
  },
  {
   "cell_type": "code",
   "execution_count": 232,
   "id": "australian-union",
   "metadata": {},
   "outputs": [],
   "source": [
    "# ABD's best strike rate against bowlers\n",
    "# adf3.sort_values('strike_rate',ascending=False)"
   ]
  },
  {
   "cell_type": "markdown",
   "id": "guided-creation",
   "metadata": {},
   "source": [
    "## Visulisations"
   ]
  },
  {
   "cell_type": "code",
   "execution_count": 235,
   "id": "printable-leisure",
   "metadata": {},
   "outputs": [
    {
     "data": {
      "image/png": "[encoded data removed]",
      "text/plain": [
       "<Figure size 1600x800 with 1 Axes>"
      ]
     },
     "metadata": {},
     "output_type": "display_data"
    }
   ],
   "source": [
    "# plt.style.use('default')\n",
    "plt.figure(figsize=(16,8))\n",
    "plt.scatter(bdf3.strike_rate,bdf3.runs_off_bat)\n",
    "\n",
    "for i in range(len(bdf3)):\n",
    "    #plt.text(x,y,text)\n",
    "    if bdf3.striker[i] == \"V Kohli\":\n",
    "        plt.text(bdf3.strike_rate[i]-7,bdf3.runs_off_bat[i],bdf3.striker[i])\n",
    "        \n",
    "    else:        \n",
    "        plt.text(bdf3.strike_rate[i]+1,bdf3.runs_off_bat[i]-1,bdf3.striker[i])\n",
    "plt.axvline(120,ls ='--',color='gray')\n",
    "plt.axhline(60,ls ='--',color='gray')\n",
    "plt.title('Batsman Against Bhumra In IPL (min 30 balls faced)',fontsize=20)\n",
    "plt.xlabel('Strike Rate')\n",
    "plt.ylabel('Runs Scored')\n",
    "plt.show()"
   ]
  },
  {
   "cell_type": "code",
   "execution_count": 236,
   "id": "functioning-vault",
   "metadata": {},
   "outputs": [],
   "source": [
    "# Bowler aginst ABS in IPL"
   ]
  },
  {
   "cell_type": "code",
   "execution_count": 237,
   "id": "executed-words",
   "metadata": {},
   "outputs": [
    {
     "data": {
      "image/png": "[encoded data removed]",
      "text/plain": [
       "<Figure size 1600x800 with 1 Axes>"
      ]
     },
     "metadata": {},
     "output_type": "display_data"
    }
   ],
   "source": [
    "plt.figure(figsize=(16,8))\n",
    "plt.scatter(adf3.strike_rate,adf3.runs_off_bat)\n",
    "for i in range(len(adf3)):\n",
    "    text = f\"{adf3.bowler[i]})\"\n",
    "    plt.text(adf3.strike_rate[i]+1,adf3.runs_off_bat[i],text)\n",
    "\n",
    "plt.axvline(110,ls ='--',color='gray')\n",
    "plt.axhline(80,ls ='--',color='gray')    \n",
    "plt.title(\"ABD Favorite Bowlers\",fontsize=20) \n",
    "plt.xlabel('Strike Rate')\n",
    "plt.ylabel('Runs Scored')\n",
    "plt.show()\n"
   ]
  },
  {
   "cell_type": "markdown",
   "id": "north-relations",
   "metadata": {},
   "source": [
    "## **Summary & Conclusion:1/3**\n",
    ">### Matchup: AB de Villiers vs Bumrah\n",
    "    - Balls: 79\n",
    "    - Runs: 114\n",
    "    - Outs: 2\n",
    "    - SR: 144"
   ]
  },
  {
   "cell_type": "markdown",
   "id": "artificial-championship",
   "metadata": {},
   "source": [
    "## **Summary & Conclusion:2/3**"
   ]
  },
  {
   "cell_type": "code",
   "execution_count": 251,
   "id": "simple-consolidation",
   "metadata": {},
   "outputs": [
    {
     "data": {
      "image/png": "[encoded data removed]",
      "text/plain": [
       "<Figure size 1600x800 with 1 Axes>"
      ]
     },
     "metadata": {},
     "output_type": "display_data"
    }
   ],
   "source": [
    "# plt.style.use('seaborn-ticks')\n",
    "plt.style.use('dark_background')\n",
    "plt.figure(figsize=(16,8))\n",
    "plt.scatter(bdf3.strike_rate,bdf3.runs_off_bat)\n",
    "\n",
    "for i in range(len(bdf3)):\n",
    "    #plt.text(x,y,text)\n",
    "    if bdf3.striker[i] == \"V Kohli\":\n",
    "        plt.text(bdf3.strike_rate[i]-7,bdf3.runs_off_bat[i],bdf3.striker[i],color='green')\n",
    "    else:        \n",
    "        if bdf3.strike_rate[i]>120 and bdf3.runs_off_bat[i]>60 and bdf3.ball[i]>50:\n",
    "            plt.text(bdf3.strike_rate[i]+1,bdf3.runs_off_bat[i]-1,bdf3.striker[i],color='green')\n",
    "#         else:    \n",
    "#             plt.text(bdf3.strike_rate[i]+1,bdf3.runs_off_bat[i]-1,bdf3.striker[i],color='white')\n",
    "plt.axvline(120,ls ='--',color='gray')\n",
    "plt.axhline(60,ls ='--',color='gray')\n",
    "plt.title('Batsman Against Bhumra In IPL (min 30 balls faced)',fontsize=20)\n",
    "plt.xlabel('Strike Rate')\n",
    "plt.ylabel('Runs Scored')\n",
    "plt.show()"
   ]
  },
  {
   "cell_type": "markdown",
   "id": "beginning-intranet",
   "metadata": {},
   "source": [
    "## **Summary & Conclusion:3/3**"
   ]
  },
  {
   "cell_type": "code",
   "execution_count": 252,
   "id": "declared-slave",
   "metadata": {},
   "outputs": [
    {
     "data": {
      "image/png": "[encoded data removed]",
      "text/plain": [
       "<Figure size 1600x800 with 1 Axes>"
      ]
     },
     "metadata": {},
     "output_type": "display_data"
    }
   ],
   "source": [
    "plt.figure(figsize=(16,8))\n",
    "plt.scatter(adf3.strike_rate,adf3.runs_off_bat)\n",
    "for i in range(len(adf3)):\n",
    "    text = f\"{adf3.bowler[i]}\"\n",
    "    if adf3.bowler[i] == 'JJ Bumrah':\n",
    "             plt.text(adf3.strike_rate[i]+1,adf3.runs_off_bat[i],text,color='red')\n",
    "    else:\n",
    "        if adf3.runs_off_bat[i]>80:\n",
    "            plt.text(adf3.strike_rate[i]+1,adf3.runs_off_bat[i],text)\n",
    "\n",
    "plt.axvline(110,ls ='--',color='gray')\n",
    "plt.axhline(80,ls ='--',color='gray')    \n",
    "plt.title(\"ABD Favorite Bowlers\",fontsize=20) \n",
    "plt.xlabel('Strike Rate')\n",
    "plt.ylabel('Runs Scored')\n",
    "plt.show()\n"
   ]
  },
  {
   "cell_type": "markdown",
   "id": "cutting-hearts",
   "metadata": {},
   "source": [
    " <pre>                          Clearly AB wins the battle against Bumrah!                    </pre>"
   ]
  },
  {
   "cell_type": "code",
   "execution_count": null,
   "id": "center-houston",
   "metadata": {},
   "outputs": [],
   "source": []
  }
 ],
 "metadata": {
  "kernelspec": {
   "display_name": "Python 3",
   "language": "python",
   "name": "python3"
  },
  "language_info": {
   "codemirror_mode": {
    "name": "ipython",
    "version": 3
   },
   "file_extension": ".py",
   "mimetype": "text/x-python",
   "name": "python",
   "nbconvert_exporter": "python",
   "pygments_lexer": "ipython3",
   "version": "3.9.2"
  }
 },
 "nbformat": 4,
 "nbformat_minor": 5
}
