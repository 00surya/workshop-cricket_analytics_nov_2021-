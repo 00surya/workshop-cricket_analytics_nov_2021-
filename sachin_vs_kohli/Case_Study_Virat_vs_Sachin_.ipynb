{
 "cells": [
  {
   "cell_type": "code",
   "execution_count": 198,
   "metadata": {
    "id": "kDm7SH7GHTUr"
   },
   "outputs": [],
   "source": [
    "import warnings\n",
    "warnings.filterwarnings('ignore')\n",
    "\n",
    "import pandas as pd\n",
    "import numpy as np\n",
    "\n",
    "import matplotlib.pyplot as plt\n",
    "\n",
    "#to display all rows columns \n",
    "pd.set_option('display.max_rows', None)\n",
    "pd.set_option('display.max_columns', None)  \n",
    "pd.set_option('display.expand_frame_repr', False)\n",
    "pd.set_option('max_colwidth', -1)"
   ]
  },
  {
   "cell_type": "code",
   "execution_count": 199,
   "metadata": {
    "id": "5EKAGmQpHTUx"
   },
   "outputs": [],
   "source": [
    "df = pd.read_csv('ODI_data.csv')"
   ]
  },
  {
   "cell_type": "code",
   "execution_count": 200,
   "metadata": {
    "id": "_rDPf-WgHTUy",
    "outputId": "4b9f1a3b-d0e9-49e4-d6ef-043243312926"
   },
   "outputs": [
    {
     "data": {
      "text/html": [
       "<div>\n",
       "<style scoped>\n",
       "    .dataframe tbody tr th:only-of-type {\n",
       "        vertical-align: middle;\n",
       "    }\n",
       "\n",
       "    .dataframe tbody tr th {\n",
       "        vertical-align: top;\n",
       "    }\n",
       "\n",
       "    .dataframe thead th {\n",
       "        text-align: right;\n",
       "    }\n",
       "</style>\n",
       "<table border=\"1\" class=\"dataframe\">\n",
       "  <thead>\n",
       "    <tr style=\"text-align: right;\">\n",
       "      <th></th>\n",
       "      <th>Innings Player</th>\n",
       "      <th>Innings Runs Scored</th>\n",
       "      <th>Innings Runs Scored Num</th>\n",
       "      <th>Innings Minutes Batted</th>\n",
       "      <th>Innings Batted Flag</th>\n",
       "      <th>Innings Not Out Flag</th>\n",
       "      <th>Innings Balls Faced</th>\n",
       "      <th>Innings Boundary Fours</th>\n",
       "      <th>Innings Boundary Sixes</th>\n",
       "      <th>Innings Batting Strike Rate</th>\n",
       "      <th>Innings Number</th>\n",
       "      <th>Opposition</th>\n",
       "      <th>Ground</th>\n",
       "      <th>Innings Date</th>\n",
       "      <th>Country</th>\n",
       "      <th>50's</th>\n",
       "      <th>100's</th>\n",
       "      <th>Innings Runs Scored Buckets</th>\n",
       "      <th>Innings Overs Bowled</th>\n",
       "      <th>Innings Bowled Flag</th>\n",
       "      <th>Innings Maidens Bowled</th>\n",
       "      <th>Innings Runs Conceded</th>\n",
       "      <th>Innings Wickets Taken</th>\n",
       "      <th>4 Wickets</th>\n",
       "      <th>5 Wickets</th>\n",
       "      <th>10 Wickets</th>\n",
       "      <th>Innings Wickets Taken Buckets</th>\n",
       "      <th>Innings Economy Rate</th>\n",
       "    </tr>\n",
       "  </thead>\n",
       "  <tbody>\n",
       "    <tr>\n",
       "      <th>0</th>\n",
       "      <td>E Lewis</td>\n",
       "      <td>65</td>\n",
       "      <td>65</td>\n",
       "      <td>128</td>\n",
       "      <td>1.0</td>\n",
       "      <td>0.0</td>\n",
       "      <td>80</td>\n",
       "      <td>8</td>\n",
       "      <td>1</td>\n",
       "      <td>81.25</td>\n",
       "      <td>2</td>\n",
       "      <td>v India</td>\n",
       "      <td>Port of Spain</td>\n",
       "      <td>11-08-2019</td>\n",
       "      <td>West Indies</td>\n",
       "      <td>1.0</td>\n",
       "      <td>0.0</td>\n",
       "      <td>50-99</td>\n",
       "      <td>NaN</td>\n",
       "      <td>NaN</td>\n",
       "      <td>NaN</td>\n",
       "      <td>NaN</td>\n",
       "      <td>NaN</td>\n",
       "      <td>NaN</td>\n",
       "      <td>NaN</td>\n",
       "      <td>NaN</td>\n",
       "      <td>NaN</td>\n",
       "      <td>NaN</td>\n",
       "    </tr>\n",
       "    <tr>\n",
       "      <th>1</th>\n",
       "      <td>N Pooran</td>\n",
       "      <td>42</td>\n",
       "      <td>42</td>\n",
       "      <td>69</td>\n",
       "      <td>1.0</td>\n",
       "      <td>0.0</td>\n",
       "      <td>52</td>\n",
       "      <td>4</td>\n",
       "      <td>1</td>\n",
       "      <td>80.76</td>\n",
       "      <td>2</td>\n",
       "      <td>v India</td>\n",
       "      <td>Port of Spain</td>\n",
       "      <td>11-08-2019</td>\n",
       "      <td>West Indies</td>\n",
       "      <td>0.0</td>\n",
       "      <td>0.0</td>\n",
       "      <td>0-49</td>\n",
       "      <td>NaN</td>\n",
       "      <td>NaN</td>\n",
       "      <td>NaN</td>\n",
       "      <td>NaN</td>\n",
       "      <td>NaN</td>\n",
       "      <td>NaN</td>\n",
       "      <td>NaN</td>\n",
       "      <td>NaN</td>\n",
       "      <td>NaN</td>\n",
       "      <td>NaN</td>\n",
       "    </tr>\n",
       "  </tbody>\n",
       "</table>\n",
       "</div>"
      ],
      "text/plain": [
       "  Innings Player Innings Runs Scored Innings Runs Scored Num Innings Minutes Batted  Innings Batted Flag  Innings Not Out Flag Innings Balls Faced Innings Boundary Fours Innings Boundary Sixes Innings Batting Strike Rate Innings Number Opposition         Ground Innings Date      Country  50's  100's Innings Runs Scored Buckets Innings Overs Bowled  Innings Bowled Flag Innings Maidens Bowled Innings Runs Conceded Innings Wickets Taken  4 Wickets  5 Wickets  10 Wickets Innings Wickets Taken Buckets Innings Economy Rate\n",
       "0  E Lewis        65                  65                      128                    1.0                  0.0                   80                  8                      1                      81.25                       2              v India    Port of Spain  11-08-2019   West Indies  1.0   0.0    50-99                       NaN                 NaN                   NaN                    NaN                   NaN                  NaN        NaN        NaN          NaN                           NaN                \n",
       "1  N Pooran       42                  42                      69                     1.0                  0.0                   52                  4                      1                      80.76                       2              v India    Port of Spain  11-08-2019   West Indies  0.0   0.0    0-49                        NaN                 NaN                   NaN                    NaN                   NaN                  NaN        NaN        NaN          NaN                           NaN                "
      ]
     },
     "execution_count": 200,
     "metadata": {},
     "output_type": "execute_result"
    }
   ],
   "source": [
    "df.head(2)"
   ]
  },
  {
   "cell_type": "code",
   "execution_count": 201,
   "metadata": {
    "id": "s2p5a15YHTU0",
    "outputId": "f0cd2134-d3ca-41ca-8583-7f736193bdaa"
   },
   "outputs": [
    {
     "data": {
      "text/plain": [
       "(171968, 28)"
      ]
     },
     "execution_count": 201,
     "metadata": {},
     "output_type": "execute_result"
    }
   ],
   "source": [
    "len(df), len(df.columns)"
   ]
  },
  {
   "cell_type": "code",
   "execution_count": 202,
   "metadata": {
    "id": "rLExDBSmHTU1"
   },
   "outputs": [],
   "source": [
    "# Runs per innings\n",
    "# SR\n",
    "# 100's\n",
    "# 50's\n",
    "# Team contribution"
   ]
  },
  {
   "cell_type": "code",
   "execution_count": 203,
   "metadata": {
    "id": "ave8uRv1HTU1",
    "outputId": "01d06d13-abdb-4a36-aff5-ffedde96e4d3"
   },
   "outputs": [
    {
     "data": {
      "text/plain": [
       "array(['65', '42', '18', '17', '13', '11', '5', '0', '120', '71', '20',\n",
       "       '16', '3', '2', '1', '-', nan, '40', '6', '4', '87', '54', '46',\n",
       "       '30', '12', '69', '39', '14', '10', '9', '8', '7', '82', '52',\n",
       "       '41', '15', '98', '43', '19', '111', '48', '36', '25', '67', '60',\n",
       "       '84', '59', '55', '47', '85', '49', '45', '34', '29', '22', '74',\n",
       "       '28', '77', '50', '32', '23', '35', '122', '100', '95', '103',\n",
       "       '113', '53', '96', '27', '64', '58', '33', '31', '73', '56', '86',\n",
       "       '62', '106', '24', '57', '104', '26', '66', '51', '118', '105',\n",
       "       '101', '21', '79', '44', '102', '88', '80', '72', '97', '68', '89',\n",
       "       '38', '83', '63', '148', '166', '90', '76', '37', '70', '124',\n",
       "       '94', '140', '153', '107', '117', '121', '92', '78', '75', '114',\n",
       "       '115', '130', '128', '151', '110', '138', '135', '109', '61',\n",
       "       '179', '170', '112', '116', '91', '143', '93', '123', '145', '81',\n",
       "       '150', '162', '108', '131', '133', '137', '146', '139', '125',\n",
       "       '129', '157', '152', '144', '99', '127', '210', '147', '126',\n",
       "       '181', '160', '180', '208', '176', '168', '141', '132', '119',\n",
       "       '154', '185', '134', '156', '164', '173', '178', '171', '149',\n",
       "       '237', '159', '161', '215', '264', '136', '169', '209', '174',\n",
       "       '189', '183', '163', '219', '158', '175', '177', '200', '194',\n",
       "       '142', '172', '186', '188', '167'], dtype=object)"
      ]
     },
     "execution_count": 203,
     "metadata": {},
     "output_type": "execute_result"
    }
   ],
   "source": [
    "df['Innings Runs Scored Num'].unique()"
   ]
  },
  {
   "cell_type": "code",
   "execution_count": 204,
   "metadata": {
    "id": "gjlqoxO-HTU2"
   },
   "outputs": [],
   "source": [
    "df = df[df['Innings Runs Scored Num'] != '-']"
   ]
  },
  {
   "cell_type": "code",
   "execution_count": 205,
   "metadata": {
    "id": "z0yuSnsNHTU3",
    "outputId": "f81c27bd-ccdb-4d77-8b6e-c96a01215453"
   },
   "outputs": [
    {
     "data": {
      "text/plain": [
       "array(['65', '42', '18', '17', '13', '11', '5', '0', '120', '71', '20',\n",
       "       '16', '3', '2', '1', nan, '40', '6', '4', '87', '54', '46', '30',\n",
       "       '12', '69', '39', '14', '10', '9', '8', '7', '82', '52', '41',\n",
       "       '15', '98', '43', '19', '111', '48', '36', '25', '67', '60', '84',\n",
       "       '59', '55', '47', '85', '49', '45', '34', '29', '22', '74', '28',\n",
       "       '77', '50', '32', '23', '35', '122', '100', '95', '103', '113',\n",
       "       '53', '96', '27', '64', '58', '33', '31', '73', '56', '86', '62',\n",
       "       '106', '24', '57', '104', '26', '66', '51', '118', '105', '101',\n",
       "       '21', '79', '44', '102', '88', '80', '72', '97', '68', '89', '38',\n",
       "       '83', '63', '148', '166', '90', '76', '37', '70', '124', '94',\n",
       "       '140', '153', '107', '117', '121', '92', '78', '75', '114', '115',\n",
       "       '130', '128', '151', '110', '138', '135', '109', '61', '179',\n",
       "       '170', '112', '116', '91', '143', '93', '123', '145', '81', '150',\n",
       "       '162', '108', '131', '133', '137', '146', '139', '125', '129',\n",
       "       '157', '152', '144', '99', '127', '210', '147', '126', '181',\n",
       "       '160', '180', '208', '176', '168', '141', '132', '119', '154',\n",
       "       '185', '134', '156', '164', '173', '178', '171', '149', '237',\n",
       "       '159', '161', '215', '264', '136', '169', '209', '174', '189',\n",
       "       '183', '163', '219', '158', '175', '177', '200', '194', '142',\n",
       "       '172', '186', '188', '167'], dtype=object)"
      ]
     },
     "execution_count": 205,
     "metadata": {},
     "output_type": "execute_result"
    }
   ],
   "source": [
    "df['Innings Runs Scored Num'].unique()"
   ]
  },
  {
   "cell_type": "code",
   "execution_count": 206,
   "metadata": {
    "id": "4PmZIB2kHTU4"
   },
   "outputs": [],
   "source": [
    "df = df.dropna(subset = ['Innings Runs Scored Num'])"
   ]
  },
  {
   "cell_type": "code",
   "execution_count": 207,
   "metadata": {
    "id": "KIt5_Sn7HTU5",
    "outputId": "8c0e055e-19d4-4a5c-ca6c-53f14782f423"
   },
   "outputs": [
    {
     "data": {
      "text/plain": [
       "array(['65', '42', '18', '17', '13', '11', '5', '0', '120', '71', '20',\n",
       "       '16', '3', '2', '1', '40', '6', '4', '87', '54', '46', '30', '12',\n",
       "       '69', '39', '14', '10', '9', '8', '7', '82', '52', '41', '15',\n",
       "       '98', '43', '19', '111', '48', '36', '25', '67', '60', '84', '59',\n",
       "       '55', '47', '85', '49', '45', '34', '29', '22', '74', '28', '77',\n",
       "       '50', '32', '23', '35', '122', '100', '95', '103', '113', '53',\n",
       "       '96', '27', '64', '58', '33', '31', '73', '56', '86', '62', '106',\n",
       "       '24', '57', '104', '26', '66', '51', '118', '105', '101', '21',\n",
       "       '79', '44', '102', '88', '80', '72', '97', '68', '89', '38', '83',\n",
       "       '63', '148', '166', '90', '76', '37', '70', '124', '94', '140',\n",
       "       '153', '107', '117', '121', '92', '78', '75', '114', '115', '130',\n",
       "       '128', '151', '110', '138', '135', '109', '61', '179', '170',\n",
       "       '112', '116', '91', '143', '93', '123', '145', '81', '150', '162',\n",
       "       '108', '131', '133', '137', '146', '139', '125', '129', '157',\n",
       "       '152', '144', '99', '127', '210', '147', '126', '181', '160',\n",
       "       '180', '208', '176', '168', '141', '132', '119', '154', '185',\n",
       "       '134', '156', '164', '173', '178', '171', '149', '237', '159',\n",
       "       '161', '215', '264', '136', '169', '209', '174', '189', '183',\n",
       "       '163', '219', '158', '175', '177', '200', '194', '142', '172',\n",
       "       '186', '188', '167'], dtype=object)"
      ]
     },
     "execution_count": 207,
     "metadata": {},
     "output_type": "execute_result"
    }
   ],
   "source": [
    "df['Innings Runs Scored Num'].unique()"
   ]
  },
  {
   "cell_type": "code",
   "execution_count": 208,
   "metadata": {
    "id": "9zcA33x8HTU6",
    "outputId": "101eef21-5a18-45c2-cf72-b880e21f3916"
   },
   "outputs": [
    {
     "data": {
      "text/html": [
       "<div>\n",
       "<style scoped>\n",
       "    .dataframe tbody tr th:only-of-type {\n",
       "        vertical-align: middle;\n",
       "    }\n",
       "\n",
       "    .dataframe tbody tr th {\n",
       "        vertical-align: top;\n",
       "    }\n",
       "\n",
       "    .dataframe thead th {\n",
       "        text-align: right;\n",
       "    }\n",
       "</style>\n",
       "<table border=\"1\" class=\"dataframe\">\n",
       "  <thead>\n",
       "    <tr style=\"text-align: right;\">\n",
       "      <th></th>\n",
       "      <th>Innings Player</th>\n",
       "      <th>Innings Runs Scored</th>\n",
       "      <th>Innings Runs Scored Num</th>\n",
       "      <th>Innings Minutes Batted</th>\n",
       "      <th>Innings Batted Flag</th>\n",
       "      <th>Innings Not Out Flag</th>\n",
       "      <th>Innings Balls Faced</th>\n",
       "      <th>Innings Boundary Fours</th>\n",
       "      <th>Innings Boundary Sixes</th>\n",
       "      <th>Innings Batting Strike Rate</th>\n",
       "      <th>Innings Number</th>\n",
       "      <th>Opposition</th>\n",
       "      <th>Ground</th>\n",
       "      <th>Innings Date</th>\n",
       "      <th>Country</th>\n",
       "      <th>50's</th>\n",
       "      <th>100's</th>\n",
       "      <th>Innings Runs Scored Buckets</th>\n",
       "      <th>Innings Overs Bowled</th>\n",
       "      <th>Innings Bowled Flag</th>\n",
       "      <th>Innings Maidens Bowled</th>\n",
       "      <th>Innings Runs Conceded</th>\n",
       "      <th>Innings Wickets Taken</th>\n",
       "      <th>4 Wickets</th>\n",
       "      <th>5 Wickets</th>\n",
       "      <th>10 Wickets</th>\n",
       "      <th>Innings Wickets Taken Buckets</th>\n",
       "      <th>Innings Economy Rate</th>\n",
       "    </tr>\n",
       "  </thead>\n",
       "  <tbody>\n",
       "    <tr>\n",
       "      <th>0</th>\n",
       "      <td>E Lewis</td>\n",
       "      <td>65</td>\n",
       "      <td>65</td>\n",
       "      <td>128</td>\n",
       "      <td>1.0</td>\n",
       "      <td>0.0</td>\n",
       "      <td>80</td>\n",
       "      <td>8</td>\n",
       "      <td>1</td>\n",
       "      <td>81.25</td>\n",
       "      <td>2</td>\n",
       "      <td>v India</td>\n",
       "      <td>Port of Spain</td>\n",
       "      <td>11-08-2019</td>\n",
       "      <td>West Indies</td>\n",
       "      <td>1.0</td>\n",
       "      <td>0.0</td>\n",
       "      <td>50-99</td>\n",
       "      <td>NaN</td>\n",
       "      <td>NaN</td>\n",
       "      <td>NaN</td>\n",
       "      <td>NaN</td>\n",
       "      <td>NaN</td>\n",
       "      <td>NaN</td>\n",
       "      <td>NaN</td>\n",
       "      <td>NaN</td>\n",
       "      <td>NaN</td>\n",
       "      <td>NaN</td>\n",
       "    </tr>\n",
       "  </tbody>\n",
       "</table>\n",
       "</div>"
      ],
      "text/plain": [
       "  Innings Player Innings Runs Scored Innings Runs Scored Num Innings Minutes Batted  Innings Batted Flag  Innings Not Out Flag Innings Balls Faced Innings Boundary Fours Innings Boundary Sixes Innings Batting Strike Rate Innings Number Opposition         Ground Innings Date      Country  50's  100's Innings Runs Scored Buckets Innings Overs Bowled  Innings Bowled Flag Innings Maidens Bowled Innings Runs Conceded Innings Wickets Taken  4 Wickets  5 Wickets  10 Wickets Innings Wickets Taken Buckets Innings Economy Rate\n",
       "0  E Lewis        65                  65                      128                    1.0                  0.0                   80                  8                      1                      81.25                       2              v India    Port of Spain  11-08-2019   West Indies  1.0   0.0    50-99                       NaN                 NaN                   NaN                    NaN                   NaN                  NaN        NaN        NaN          NaN                           NaN                "
      ]
     },
     "execution_count": 208,
     "metadata": {},
     "output_type": "execute_result"
    }
   ],
   "source": [
    "df.head(1)"
   ]
  },
  {
   "cell_type": "code",
   "execution_count": 209,
   "metadata": {
    "id": "C-vVmyggHTU6"
   },
   "outputs": [],
   "source": [
    "# convert to datetime\n",
    "df['Innings Date'] = pd.to_datetime(df['Innings Date']) "
   ]
  },
  {
   "cell_type": "code",
   "execution_count": 210,
   "metadata": {
    "id": "BRSBbZGkHTU6"
   },
   "outputs": [],
   "source": [
    "df['year'] = df['Innings Date'].dt.year"
   ]
  },
  {
   "cell_type": "code",
   "execution_count": 211,
   "metadata": {
    "id": "zAzVlXpMHTU7",
    "outputId": "0cbe5b45-3722-4651-9d9b-36ee63c54cad"
   },
   "outputs": [
    {
     "data": {
      "text/html": [
       "<div>\n",
       "<style scoped>\n",
       "    .dataframe tbody tr th:only-of-type {\n",
       "        vertical-align: middle;\n",
       "    }\n",
       "\n",
       "    .dataframe tbody tr th {\n",
       "        vertical-align: top;\n",
       "    }\n",
       "\n",
       "    .dataframe thead th {\n",
       "        text-align: right;\n",
       "    }\n",
       "</style>\n",
       "<table border=\"1\" class=\"dataframe\">\n",
       "  <thead>\n",
       "    <tr style=\"text-align: right;\">\n",
       "      <th></th>\n",
       "      <th>Innings Player</th>\n",
       "      <th>Innings Runs Scored</th>\n",
       "      <th>Innings Runs Scored Num</th>\n",
       "      <th>Innings Minutes Batted</th>\n",
       "      <th>Innings Batted Flag</th>\n",
       "      <th>Innings Not Out Flag</th>\n",
       "      <th>Innings Balls Faced</th>\n",
       "      <th>Innings Boundary Fours</th>\n",
       "      <th>Innings Boundary Sixes</th>\n",
       "      <th>Innings Batting Strike Rate</th>\n",
       "      <th>Innings Number</th>\n",
       "      <th>Opposition</th>\n",
       "      <th>Ground</th>\n",
       "      <th>Innings Date</th>\n",
       "      <th>Country</th>\n",
       "      <th>50's</th>\n",
       "      <th>100's</th>\n",
       "      <th>Innings Runs Scored Buckets</th>\n",
       "      <th>Innings Overs Bowled</th>\n",
       "      <th>Innings Bowled Flag</th>\n",
       "      <th>Innings Maidens Bowled</th>\n",
       "      <th>Innings Runs Conceded</th>\n",
       "      <th>Innings Wickets Taken</th>\n",
       "      <th>4 Wickets</th>\n",
       "      <th>5 Wickets</th>\n",
       "      <th>10 Wickets</th>\n",
       "      <th>Innings Wickets Taken Buckets</th>\n",
       "      <th>Innings Economy Rate</th>\n",
       "      <th>year</th>\n",
       "    </tr>\n",
       "  </thead>\n",
       "  <tbody>\n",
       "    <tr>\n",
       "      <th>171941</th>\n",
       "      <td>RW Marsh</td>\n",
       "      <td>10*</td>\n",
       "      <td>10</td>\n",
       "      <td>24</td>\n",
       "      <td>1.0</td>\n",
       "      <td>1.0</td>\n",
       "      <td>18</td>\n",
       "      <td>2</td>\n",
       "      <td>0</td>\n",
       "      <td>55.55</td>\n",
       "      <td>2</td>\n",
       "      <td>v England</td>\n",
       "      <td>Melbourne</td>\n",
       "      <td>1971-05-01</td>\n",
       "      <td>Australia</td>\n",
       "      <td>0.0</td>\n",
       "      <td>0.0</td>\n",
       "      <td>0-49</td>\n",
       "      <td>NaN</td>\n",
       "      <td>NaN</td>\n",
       "      <td>NaN</td>\n",
       "      <td>NaN</td>\n",
       "      <td>NaN</td>\n",
       "      <td>NaN</td>\n",
       "      <td>NaN</td>\n",
       "      <td>NaN</td>\n",
       "      <td>NaN</td>\n",
       "      <td>NaN</td>\n",
       "      <td>1971</td>\n",
       "    </tr>\n",
       "  </tbody>\n",
       "</table>\n",
       "</div>"
      ],
      "text/plain": [
       "       Innings Player Innings Runs Scored Innings Runs Scored Num Innings Minutes Batted  Innings Batted Flag  Innings Not Out Flag Innings Balls Faced Innings Boundary Fours Innings Boundary Sixes Innings Batting Strike Rate Innings Number Opposition     Ground Innings Date    Country  50's  100's Innings Runs Scored Buckets Innings Overs Bowled  Innings Bowled Flag Innings Maidens Bowled Innings Runs Conceded Innings Wickets Taken  4 Wickets  5 Wickets  10 Wickets Innings Wickets Taken Buckets Innings Economy Rate  year\n",
       "171941  RW Marsh       10*                 10                      24                     1.0                  1.0                   18                  2                      0                      55.55                       2              v England  Melbourne 1971-05-01    Australia  0.0   0.0    0-49                        NaN                 NaN                   NaN                    NaN                   NaN                  NaN        NaN        NaN          NaN                           NaN                  1971"
      ]
     },
     "execution_count": 211,
     "metadata": {},
     "output_type": "execute_result"
    }
   ],
   "source": [
    "df.tail(1)"
   ]
  },
  {
   "cell_type": "code",
   "execution_count": 212,
   "metadata": {
    "id": "2GYpePOiHTU7"
   },
   "outputs": [],
   "source": [
    "df['Innings Runs Scored Num'] = df['Innings Runs Scored Num'].astype('int')"
   ]
  },
  {
   "cell_type": "code",
   "execution_count": 213,
   "metadata": {
    "id": "2c0inFqYHTU7"
   },
   "outputs": [],
   "source": [
    "df['Innings Balls Faced'] = df['Innings Balls Faced'].astype('int')"
   ]
  },
  {
   "cell_type": "code",
   "execution_count": 214,
   "metadata": {
    "id": "AAKaNlOLHTU8"
   },
   "outputs": [],
   "source": [
    "df['Innings Not Out Flag'] = df['Innings Not Out Flag'].astype('int')"
   ]
  },
  {
   "cell_type": "code",
   "execution_count": null,
   "metadata": {
    "id": "0_HKdy2UHTU8"
   },
   "outputs": [],
   "source": []
  },
  {
   "cell_type": "code",
   "execution_count": null,
   "metadata": {
    "id": "_XMbP5bIHTU8"
   },
   "outputs": [],
   "source": []
  },
  {
   "cell_type": "code",
   "execution_count": 215,
   "metadata": {
    "id": "Yo4aiyW6HTU8"
   },
   "outputs": [],
   "source": [
    "# Sachin 1994 - 2004\n",
    "# Virat 2009 - 2019"
   ]
  },
  {
   "cell_type": "code",
   "execution_count": 216,
   "metadata": {
    "id": "wUk-8AyAHTU8"
   },
   "outputs": [],
   "source": [
    "sachin_df = df[(df.year >= 1994) & (df.year <= 2004)]"
   ]
  },
  {
   "cell_type": "code",
   "execution_count": 217,
   "metadata": {
    "id": "0fshEieGHTU9"
   },
   "outputs": [],
   "source": [
    "kohli_df = df[(df.year >= 2009) & (df.year <= 2019)]"
   ]
  },
  {
   "cell_type": "code",
   "execution_count": 218,
   "metadata": {
    "id": "SEYyVEiTHTU9",
    "outputId": "7de72fe3-2785-48ec-eb7e-b4b92ff0702a"
   },
   "outputs": [
    {
     "data": {
      "text/html": [
       "<div>\n",
       "<style scoped>\n",
       "    .dataframe tbody tr th:only-of-type {\n",
       "        vertical-align: middle;\n",
       "    }\n",
       "\n",
       "    .dataframe tbody tr th {\n",
       "        vertical-align: top;\n",
       "    }\n",
       "\n",
       "    .dataframe thead th {\n",
       "        text-align: right;\n",
       "    }\n",
       "</style>\n",
       "<table border=\"1\" class=\"dataframe\">\n",
       "  <thead>\n",
       "    <tr style=\"text-align: right;\">\n",
       "      <th></th>\n",
       "      <th>Innings Player</th>\n",
       "      <th>Innings Runs Scored</th>\n",
       "      <th>Innings Runs Scored Num</th>\n",
       "      <th>Innings Minutes Batted</th>\n",
       "      <th>Innings Batted Flag</th>\n",
       "      <th>Innings Not Out Flag</th>\n",
       "      <th>Innings Balls Faced</th>\n",
       "      <th>Innings Boundary Fours</th>\n",
       "      <th>Innings Boundary Sixes</th>\n",
       "      <th>Innings Batting Strike Rate</th>\n",
       "      <th>Innings Number</th>\n",
       "      <th>Opposition</th>\n",
       "      <th>Ground</th>\n",
       "      <th>Innings Date</th>\n",
       "      <th>Country</th>\n",
       "      <th>50's</th>\n",
       "      <th>100's</th>\n",
       "      <th>Innings Runs Scored Buckets</th>\n",
       "      <th>Innings Overs Bowled</th>\n",
       "      <th>Innings Bowled Flag</th>\n",
       "      <th>Innings Maidens Bowled</th>\n",
       "      <th>Innings Runs Conceded</th>\n",
       "      <th>Innings Wickets Taken</th>\n",
       "      <th>4 Wickets</th>\n",
       "      <th>5 Wickets</th>\n",
       "      <th>10 Wickets</th>\n",
       "      <th>Innings Wickets Taken Buckets</th>\n",
       "      <th>Innings Economy Rate</th>\n",
       "      <th>year</th>\n",
       "    </tr>\n",
       "  </thead>\n",
       "  <tbody>\n",
       "    <tr>\n",
       "      <th>77610</th>\n",
       "      <td>V Sehwag</td>\n",
       "      <td>70</td>\n",
       "      <td>70</td>\n",
       "      <td>85</td>\n",
       "      <td>1.0</td>\n",
       "      <td>0</td>\n",
       "      <td>52</td>\n",
       "      <td>9</td>\n",
       "      <td>2</td>\n",
       "      <td>134.61</td>\n",
       "      <td>1</td>\n",
       "      <td>v Bangladesh</td>\n",
       "      <td>Dhaka</td>\n",
       "      <td>2004-12-27</td>\n",
       "      <td>India</td>\n",
       "      <td>1.0</td>\n",
       "      <td>0.0</td>\n",
       "      <td>50-99</td>\n",
       "      <td>NaN</td>\n",
       "      <td>NaN</td>\n",
       "      <td>NaN</td>\n",
       "      <td>NaN</td>\n",
       "      <td>NaN</td>\n",
       "      <td>NaN</td>\n",
       "      <td>NaN</td>\n",
       "      <td>NaN</td>\n",
       "      <td>NaN</td>\n",
       "      <td>NaN</td>\n",
       "      <td>2004</td>\n",
       "    </tr>\n",
       "    <tr>\n",
       "      <th>77611</th>\n",
       "      <td>Yuvraj Singh</td>\n",
       "      <td>69</td>\n",
       "      <td>69</td>\n",
       "      <td>34</td>\n",
       "      <td>1.0</td>\n",
       "      <td>0</td>\n",
       "      <td>32</td>\n",
       "      <td>8</td>\n",
       "      <td>3</td>\n",
       "      <td>215.62</td>\n",
       "      <td>1</td>\n",
       "      <td>v Bangladesh</td>\n",
       "      <td>Dhaka</td>\n",
       "      <td>2004-12-27</td>\n",
       "      <td>India</td>\n",
       "      <td>1.0</td>\n",
       "      <td>0.0</td>\n",
       "      <td>50-99</td>\n",
       "      <td>NaN</td>\n",
       "      <td>NaN</td>\n",
       "      <td>NaN</td>\n",
       "      <td>NaN</td>\n",
       "      <td>NaN</td>\n",
       "      <td>NaN</td>\n",
       "      <td>NaN</td>\n",
       "      <td>NaN</td>\n",
       "      <td>NaN</td>\n",
       "      <td>NaN</td>\n",
       "      <td>2004</td>\n",
       "    </tr>\n",
       "  </tbody>\n",
       "</table>\n",
       "</div>"
      ],
      "text/plain": [
       "      Innings Player Innings Runs Scored  Innings Runs Scored Num Innings Minutes Batted  Innings Batted Flag  Innings Not Out Flag  Innings Balls Faced Innings Boundary Fours Innings Boundary Sixes Innings Batting Strike Rate Innings Number    Opposition Ground Innings Date Country  50's  100's Innings Runs Scored Buckets Innings Overs Bowled  Innings Bowled Flag Innings Maidens Bowled Innings Runs Conceded Innings Wickets Taken  4 Wickets  5 Wickets  10 Wickets Innings Wickets Taken Buckets Innings Economy Rate  year\n",
       "77610  V Sehwag       70                  70                       85                     1.0                  0                     52                   9                      2                      134.61                      1              v Bangladesh  Dhaka 2004-12-27    India   1.0   0.0    50-99                       NaN                 NaN                   NaN                    NaN                   NaN                  NaN        NaN        NaN          NaN                           NaN                  2004\n",
       "77611  Yuvraj Singh   69                  69                       34                     1.0                  0                     32                   8                      3                      215.62                      1              v Bangladesh  Dhaka 2004-12-27    India   1.0   0.0    50-99                       NaN                 NaN                   NaN                    NaN                   NaN                  NaN        NaN        NaN          NaN                           NaN                  2004"
      ]
     },
     "execution_count": 218,
     "metadata": {},
     "output_type": "execute_result"
    }
   ],
   "source": [
    "sachin_df.head(2)"
   ]
  },
  {
   "cell_type": "code",
   "execution_count": 219,
   "metadata": {
    "id": "jhbz-XSLHTU9",
    "outputId": "5935a7ff-52a4-491f-f5d1-14ba104f2749",
    "scrolled": true
   },
   "outputs": [
    {
     "data": {
      "text/html": [
       "<div>\n",
       "<style scoped>\n",
       "    .dataframe tbody tr th:only-of-type {\n",
       "        vertical-align: middle;\n",
       "    }\n",
       "\n",
       "    .dataframe tbody tr th {\n",
       "        vertical-align: top;\n",
       "    }\n",
       "\n",
       "    .dataframe thead th {\n",
       "        text-align: right;\n",
       "    }\n",
       "</style>\n",
       "<table border=\"1\" class=\"dataframe\">\n",
       "  <thead>\n",
       "    <tr style=\"text-align: right;\">\n",
       "      <th></th>\n",
       "      <th>Innings Player</th>\n",
       "      <th>Innings Runs Scored</th>\n",
       "      <th>Innings Runs Scored Num</th>\n",
       "      <th>Innings Minutes Batted</th>\n",
       "      <th>Innings Batted Flag</th>\n",
       "      <th>Innings Not Out Flag</th>\n",
       "      <th>Innings Balls Faced</th>\n",
       "      <th>Innings Boundary Fours</th>\n",
       "      <th>Innings Boundary Sixes</th>\n",
       "      <th>Innings Batting Strike Rate</th>\n",
       "      <th>Innings Number</th>\n",
       "      <th>Opposition</th>\n",
       "      <th>Ground</th>\n",
       "      <th>Innings Date</th>\n",
       "      <th>Country</th>\n",
       "      <th>50's</th>\n",
       "      <th>100's</th>\n",
       "      <th>Innings Runs Scored Buckets</th>\n",
       "      <th>Innings Overs Bowled</th>\n",
       "      <th>Innings Bowled Flag</th>\n",
       "      <th>Innings Maidens Bowled</th>\n",
       "      <th>Innings Runs Conceded</th>\n",
       "      <th>Innings Wickets Taken</th>\n",
       "      <th>4 Wickets</th>\n",
       "      <th>5 Wickets</th>\n",
       "      <th>10 Wickets</th>\n",
       "      <th>Innings Wickets Taken Buckets</th>\n",
       "      <th>Innings Economy Rate</th>\n",
       "      <th>year</th>\n",
       "    </tr>\n",
       "  </thead>\n",
       "  <tbody>\n",
       "    <tr>\n",
       "      <th>0</th>\n",
       "      <td>E Lewis</td>\n",
       "      <td>65</td>\n",
       "      <td>65</td>\n",
       "      <td>128</td>\n",
       "      <td>1.0</td>\n",
       "      <td>0</td>\n",
       "      <td>80</td>\n",
       "      <td>8</td>\n",
       "      <td>1</td>\n",
       "      <td>81.25</td>\n",
       "      <td>2</td>\n",
       "      <td>v India</td>\n",
       "      <td>Port of Spain</td>\n",
       "      <td>2019-11-08</td>\n",
       "      <td>West Indies</td>\n",
       "      <td>1.0</td>\n",
       "      <td>0.0</td>\n",
       "      <td>50-99</td>\n",
       "      <td>NaN</td>\n",
       "      <td>NaN</td>\n",
       "      <td>NaN</td>\n",
       "      <td>NaN</td>\n",
       "      <td>NaN</td>\n",
       "      <td>NaN</td>\n",
       "      <td>NaN</td>\n",
       "      <td>NaN</td>\n",
       "      <td>NaN</td>\n",
       "      <td>NaN</td>\n",
       "      <td>2019</td>\n",
       "    </tr>\n",
       "    <tr>\n",
       "      <th>1</th>\n",
       "      <td>N Pooran</td>\n",
       "      <td>42</td>\n",
       "      <td>42</td>\n",
       "      <td>69</td>\n",
       "      <td>1.0</td>\n",
       "      <td>0</td>\n",
       "      <td>52</td>\n",
       "      <td>4</td>\n",
       "      <td>1</td>\n",
       "      <td>80.76</td>\n",
       "      <td>2</td>\n",
       "      <td>v India</td>\n",
       "      <td>Port of Spain</td>\n",
       "      <td>2019-11-08</td>\n",
       "      <td>West Indies</td>\n",
       "      <td>0.0</td>\n",
       "      <td>0.0</td>\n",
       "      <td>0-49</td>\n",
       "      <td>NaN</td>\n",
       "      <td>NaN</td>\n",
       "      <td>NaN</td>\n",
       "      <td>NaN</td>\n",
       "      <td>NaN</td>\n",
       "      <td>NaN</td>\n",
       "      <td>NaN</td>\n",
       "      <td>NaN</td>\n",
       "      <td>NaN</td>\n",
       "      <td>NaN</td>\n",
       "      <td>2019</td>\n",
       "    </tr>\n",
       "  </tbody>\n",
       "</table>\n",
       "</div>"
      ],
      "text/plain": [
       "  Innings Player Innings Runs Scored  Innings Runs Scored Num Innings Minutes Batted  Innings Batted Flag  Innings Not Out Flag  Innings Balls Faced Innings Boundary Fours Innings Boundary Sixes Innings Batting Strike Rate Innings Number Opposition         Ground Innings Date      Country  50's  100's Innings Runs Scored Buckets Innings Overs Bowled  Innings Bowled Flag Innings Maidens Bowled Innings Runs Conceded Innings Wickets Taken  4 Wickets  5 Wickets  10 Wickets Innings Wickets Taken Buckets Innings Economy Rate  year\n",
       "0  E Lewis        65                  65                       128                    1.0                  0                     80                   8                      1                      81.25                       2              v India    Port of Spain 2019-11-08    West Indies  1.0   0.0    50-99                       NaN                 NaN                   NaN                    NaN                   NaN                  NaN        NaN        NaN          NaN                           NaN                  2019\n",
       "1  N Pooran       42                  42                       69                     1.0                  0                     52                   4                      1                      80.76                       2              v India    Port of Spain 2019-11-08    West Indies  0.0   0.0    0-49                        NaN                 NaN                   NaN                    NaN                   NaN                  NaN        NaN        NaN          NaN                           NaN                  2019"
      ]
     },
     "execution_count": 219,
     "metadata": {},
     "output_type": "execute_result"
    }
   ],
   "source": [
    "kohli_df.head(2)"
   ]
  },
  {
   "cell_type": "code",
   "execution_count": 220,
   "metadata": {
    "id": "LzG1NgAqHTU-"
   },
   "outputs": [],
   "source": [
    "# Runs per innings = Total Runs/Total Innings\n",
    "# SR = 100*(Total Runs/Total Balls)\n",
    "# 100's = sum(100's)\n",
    "# 50's = sum(50's)\n",
    "# Team contribution = Player Runs/Team Runs (ex: Virat 50/ Team Ind 150 => 50/150 : 33%)"
   ]
  },
  {
   "cell_type": "code",
   "execution_count": 221,
   "metadata": {
    "id": "gqy0zYQQHTU-"
   },
   "outputs": [],
   "source": [
    "# df.dtypes"
   ]
  },
  {
   "cell_type": "code",
   "execution_count": 222,
   "metadata": {
    "id": "PX8zxrxOHTU-"
   },
   "outputs": [],
   "source": [
    "# sachin_df.to_csv('sachin_data.csv')"
   ]
  },
  {
   "cell_type": "code",
   "execution_count": 223,
   "metadata": {
    "id": "qy6PdidvHTU-"
   },
   "outputs": [],
   "source": [
    "# what is the total runs scored by sachin in these time frames?"
   ]
  },
  {
   "cell_type": "code",
   "execution_count": 224,
   "metadata": {
    "id": "ux9x1nwZHTU-"
   },
   "outputs": [],
   "source": [
    "# sachin_df.head(20)"
   ]
  },
  {
   "cell_type": "code",
   "execution_count": 225,
   "metadata": {
    "id": "Kqw-vkRaHTU_"
   },
   "outputs": [],
   "source": [
    "# SR Tendulkar\n",
    "sdf = sachin_df[sachin_df['Innings Player'] == 'SR Tendulkar']"
   ]
  },
  {
   "cell_type": "code",
   "execution_count": 226,
   "metadata": {
    "id": "2tKwOeKlHTU_",
    "outputId": "ece712f1-8bdf-4e80-c90f-66b98974bb7b"
   },
   "outputs": [
    {
     "data": {
      "text/html": [
       "<div>\n",
       "<style scoped>\n",
       "    .dataframe tbody tr th:only-of-type {\n",
       "        vertical-align: middle;\n",
       "    }\n",
       "\n",
       "    .dataframe tbody tr th {\n",
       "        vertical-align: top;\n",
       "    }\n",
       "\n",
       "    .dataframe thead th {\n",
       "        text-align: right;\n",
       "    }\n",
       "</style>\n",
       "<table border=\"1\" class=\"dataframe\">\n",
       "  <thead>\n",
       "    <tr style=\"text-align: right;\">\n",
       "      <th></th>\n",
       "      <th>Innings Player</th>\n",
       "      <th>Innings Runs Scored</th>\n",
       "      <th>Innings Runs Scored Num</th>\n",
       "      <th>Innings Minutes Batted</th>\n",
       "      <th>Innings Batted Flag</th>\n",
       "      <th>Innings Not Out Flag</th>\n",
       "      <th>Innings Balls Faced</th>\n",
       "      <th>Innings Boundary Fours</th>\n",
       "      <th>Innings Boundary Sixes</th>\n",
       "      <th>Innings Batting Strike Rate</th>\n",
       "      <th>Innings Number</th>\n",
       "      <th>Opposition</th>\n",
       "      <th>Ground</th>\n",
       "      <th>Innings Date</th>\n",
       "      <th>Country</th>\n",
       "      <th>50's</th>\n",
       "      <th>100's</th>\n",
       "      <th>Innings Runs Scored Buckets</th>\n",
       "      <th>Innings Overs Bowled</th>\n",
       "      <th>Innings Bowled Flag</th>\n",
       "      <th>Innings Maidens Bowled</th>\n",
       "      <th>Innings Runs Conceded</th>\n",
       "      <th>Innings Wickets Taken</th>\n",
       "      <th>4 Wickets</th>\n",
       "      <th>5 Wickets</th>\n",
       "      <th>10 Wickets</th>\n",
       "      <th>Innings Wickets Taken Buckets</th>\n",
       "      <th>Innings Economy Rate</th>\n",
       "      <th>year</th>\n",
       "    </tr>\n",
       "  </thead>\n",
       "  <tbody>\n",
       "    <tr>\n",
       "      <th>77614</th>\n",
       "      <td>SR Tendulkar</td>\n",
       "      <td>47</td>\n",
       "      <td>47</td>\n",
       "      <td>60</td>\n",
       "      <td>1.0</td>\n",
       "      <td>0</td>\n",
       "      <td>42</td>\n",
       "      <td>9</td>\n",
       "      <td>0</td>\n",
       "      <td>111.9</td>\n",
       "      <td>1</td>\n",
       "      <td>v Bangladesh</td>\n",
       "      <td>Dhaka</td>\n",
       "      <td>2004-12-27</td>\n",
       "      <td>India</td>\n",
       "      <td>0.0</td>\n",
       "      <td>0.0</td>\n",
       "      <td>0-49</td>\n",
       "      <td>NaN</td>\n",
       "      <td>NaN</td>\n",
       "      <td>NaN</td>\n",
       "      <td>NaN</td>\n",
       "      <td>NaN</td>\n",
       "      <td>NaN</td>\n",
       "      <td>NaN</td>\n",
       "      <td>NaN</td>\n",
       "      <td>NaN</td>\n",
       "      <td>NaN</td>\n",
       "      <td>2004</td>\n",
       "    </tr>\n",
       "    <tr>\n",
       "      <th>77747</th>\n",
       "      <td>SR Tendulkar</td>\n",
       "      <td>19</td>\n",
       "      <td>19</td>\n",
       "      <td>46</td>\n",
       "      <td>1.0</td>\n",
       "      <td>0</td>\n",
       "      <td>32</td>\n",
       "      <td>3</td>\n",
       "      <td>0</td>\n",
       "      <td>59.37</td>\n",
       "      <td>1</td>\n",
       "      <td>v Bangladesh</td>\n",
       "      <td>Chattogram</td>\n",
       "      <td>2004-12-23</td>\n",
       "      <td>India</td>\n",
       "      <td>0.0</td>\n",
       "      <td>0.0</td>\n",
       "      <td>0-49</td>\n",
       "      <td>NaN</td>\n",
       "      <td>NaN</td>\n",
       "      <td>NaN</td>\n",
       "      <td>NaN</td>\n",
       "      <td>NaN</td>\n",
       "      <td>NaN</td>\n",
       "      <td>NaN</td>\n",
       "      <td>NaN</td>\n",
       "      <td>NaN</td>\n",
       "      <td>NaN</td>\n",
       "      <td>2004</td>\n",
       "    </tr>\n",
       "    <tr>\n",
       "      <th>78054</th>\n",
       "      <td>SR Tendulkar</td>\n",
       "      <td>16</td>\n",
       "      <td>16</td>\n",
       "      <td>30</td>\n",
       "      <td>1.0</td>\n",
       "      <td>0</td>\n",
       "      <td>17</td>\n",
       "      <td>2</td>\n",
       "      <td>0</td>\n",
       "      <td>94.11</td>\n",
       "      <td>1</td>\n",
       "      <td>v Pakistan</td>\n",
       "      <td>Kolkata</td>\n",
       "      <td>2004-11-13</td>\n",
       "      <td>India</td>\n",
       "      <td>0.0</td>\n",
       "      <td>0.0</td>\n",
       "      <td>0-49</td>\n",
       "      <td>NaN</td>\n",
       "      <td>NaN</td>\n",
       "      <td>NaN</td>\n",
       "      <td>NaN</td>\n",
       "      <td>NaN</td>\n",
       "      <td>NaN</td>\n",
       "      <td>NaN</td>\n",
       "      <td>NaN</td>\n",
       "      <td>NaN</td>\n",
       "      <td>NaN</td>\n",
       "      <td>2004</td>\n",
       "    </tr>\n",
       "    <tr>\n",
       "      <th>79590</th>\n",
       "      <td>SR Tendulkar</td>\n",
       "      <td>74</td>\n",
       "      <td>74</td>\n",
       "      <td>170</td>\n",
       "      <td>1.0</td>\n",
       "      <td>0</td>\n",
       "      <td>100</td>\n",
       "      <td>7</td>\n",
       "      <td>1</td>\n",
       "      <td>74</td>\n",
       "      <td>2</td>\n",
       "      <td>v Sri Lanka</td>\n",
       "      <td>Colombo (RPS)</td>\n",
       "      <td>2004-01-08</td>\n",
       "      <td>India</td>\n",
       "      <td>1.0</td>\n",
       "      <td>0.0</td>\n",
       "      <td>50-99</td>\n",
       "      <td>NaN</td>\n",
       "      <td>NaN</td>\n",
       "      <td>NaN</td>\n",
       "      <td>NaN</td>\n",
       "      <td>NaN</td>\n",
       "      <td>NaN</td>\n",
       "      <td>NaN</td>\n",
       "      <td>NaN</td>\n",
       "      <td>NaN</td>\n",
       "      <td>NaN</td>\n",
       "      <td>2004</td>\n",
       "    </tr>\n",
       "    <tr>\n",
       "      <th>79681</th>\n",
       "      <td>SR Tendulkar</td>\n",
       "      <td>18</td>\n",
       "      <td>18</td>\n",
       "      <td>30</td>\n",
       "      <td>1.0</td>\n",
       "      <td>0</td>\n",
       "      <td>21</td>\n",
       "      <td>3</td>\n",
       "      <td>0</td>\n",
       "      <td>85.71</td>\n",
       "      <td>1</td>\n",
       "      <td>v Sri Lanka</td>\n",
       "      <td>Colombo (RPS)</td>\n",
       "      <td>2004-07-27</td>\n",
       "      <td>India</td>\n",
       "      <td>0.0</td>\n",
       "      <td>0.0</td>\n",
       "      <td>0-49</td>\n",
       "      <td>NaN</td>\n",
       "      <td>NaN</td>\n",
       "      <td>NaN</td>\n",
       "      <td>NaN</td>\n",
       "      <td>NaN</td>\n",
       "      <td>NaN</td>\n",
       "      <td>NaN</td>\n",
       "      <td>NaN</td>\n",
       "      <td>NaN</td>\n",
       "      <td>NaN</td>\n",
       "      <td>2004</td>\n",
       "    </tr>\n",
       "  </tbody>\n",
       "</table>\n",
       "</div>"
      ],
      "text/plain": [
       "      Innings Player Innings Runs Scored  Innings Runs Scored Num Innings Minutes Batted  Innings Batted Flag  Innings Not Out Flag  Innings Balls Faced Innings Boundary Fours Innings Boundary Sixes Innings Batting Strike Rate Innings Number    Opposition         Ground Innings Date Country  50's  100's Innings Runs Scored Buckets Innings Overs Bowled  Innings Bowled Flag Innings Maidens Bowled Innings Runs Conceded Innings Wickets Taken  4 Wickets  5 Wickets  10 Wickets Innings Wickets Taken Buckets Innings Economy Rate  year\n",
       "77614  SR Tendulkar   47                  47                       60                     1.0                  0                     42                   9                      0                      111.9                       1              v Bangladesh  Dhaka         2004-12-27    India   0.0   0.0    0-49                        NaN                 NaN                   NaN                    NaN                   NaN                  NaN        NaN        NaN          NaN                           NaN                  2004\n",
       "77747  SR Tendulkar   19                  19                       46                     1.0                  0                     32                   3                      0                      59.37                       1              v Bangladesh  Chattogram    2004-12-23    India   0.0   0.0    0-49                        NaN                 NaN                   NaN                    NaN                   NaN                  NaN        NaN        NaN          NaN                           NaN                  2004\n",
       "78054  SR Tendulkar   16                  16                       30                     1.0                  0                     17                   2                      0                      94.11                       1              v Pakistan    Kolkata       2004-11-13    India   0.0   0.0    0-49                        NaN                 NaN                   NaN                    NaN                   NaN                  NaN        NaN        NaN          NaN                           NaN                  2004\n",
       "79590  SR Tendulkar   74                  74                       170                    1.0                  0                     100                  7                      1                      74                          2              v Sri Lanka   Colombo (RPS) 2004-01-08    India   1.0   0.0    50-99                       NaN                 NaN                   NaN                    NaN                   NaN                  NaN        NaN        NaN          NaN                           NaN                  2004\n",
       "79681  SR Tendulkar   18                  18                       30                     1.0                  0                     21                   3                      0                      85.71                       1              v Sri Lanka   Colombo (RPS) 2004-07-27    India   0.0   0.0    0-49                        NaN                 NaN                   NaN                    NaN                   NaN                  NaN        NaN        NaN          NaN                           NaN                  2004"
      ]
     },
     "execution_count": 226,
     "metadata": {},
     "output_type": "execute_result"
    }
   ],
   "source": [
    "sdf.head()"
   ]
  },
  {
   "cell_type": "code",
   "execution_count": 227,
   "metadata": {
    "id": "CGRMCeCyHTU_",
    "outputId": "b141ed2a-ac93-40c2-de46-5d82f5a28560"
   },
   "outputs": [
    {
     "data": {
      "text/plain": [
       "11818"
      ]
     },
     "execution_count": 227,
     "metadata": {},
     "output_type": "execute_result"
    }
   ],
   "source": [
    "sum(sdf['Innings Runs Scored Num'])"
   ]
  },
  {
   "cell_type": "code",
   "execution_count": 228,
   "metadata": {
    "id": "PxX57ZwAHTU_"
   },
   "outputs": [],
   "source": [
    "kdf = kohli_df[kohli_df['Innings Player'] == 'V Kohli']"
   ]
  },
  {
   "cell_type": "code",
   "execution_count": 229,
   "metadata": {
    "id": "UVjAJ_fZHTU_"
   },
   "outputs": [],
   "source": [
    "# kohli_df['Innings Player'].unique()"
   ]
  },
  {
   "cell_type": "code",
   "execution_count": 230,
   "metadata": {
    "id": "auNdYhqjHTU_",
    "outputId": "358a94a0-1184-4509-eb20-6b14a4e07510"
   },
   "outputs": [
    {
     "data": {
      "text/html": [
       "<div>\n",
       "<style scoped>\n",
       "    .dataframe tbody tr th:only-of-type {\n",
       "        vertical-align: middle;\n",
       "    }\n",
       "\n",
       "    .dataframe tbody tr th {\n",
       "        vertical-align: top;\n",
       "    }\n",
       "\n",
       "    .dataframe thead th {\n",
       "        text-align: right;\n",
       "    }\n",
       "</style>\n",
       "<table border=\"1\" class=\"dataframe\">\n",
       "  <thead>\n",
       "    <tr style=\"text-align: right;\">\n",
       "      <th></th>\n",
       "      <th>Innings Player</th>\n",
       "      <th>Innings Runs Scored</th>\n",
       "      <th>Innings Runs Scored Num</th>\n",
       "      <th>Innings Minutes Batted</th>\n",
       "      <th>Innings Batted Flag</th>\n",
       "      <th>Innings Not Out Flag</th>\n",
       "      <th>Innings Balls Faced</th>\n",
       "      <th>Innings Boundary Fours</th>\n",
       "      <th>Innings Boundary Sixes</th>\n",
       "      <th>Innings Batting Strike Rate</th>\n",
       "      <th>Innings Number</th>\n",
       "      <th>Opposition</th>\n",
       "      <th>Ground</th>\n",
       "      <th>Innings Date</th>\n",
       "      <th>Country</th>\n",
       "      <th>50's</th>\n",
       "      <th>100's</th>\n",
       "      <th>Innings Runs Scored Buckets</th>\n",
       "      <th>Innings Overs Bowled</th>\n",
       "      <th>Innings Bowled Flag</th>\n",
       "      <th>Innings Maidens Bowled</th>\n",
       "      <th>Innings Runs Conceded</th>\n",
       "      <th>Innings Wickets Taken</th>\n",
       "      <th>4 Wickets</th>\n",
       "      <th>5 Wickets</th>\n",
       "      <th>10 Wickets</th>\n",
       "      <th>Innings Wickets Taken Buckets</th>\n",
       "      <th>Innings Economy Rate</th>\n",
       "      <th>year</th>\n",
       "    </tr>\n",
       "  </thead>\n",
       "  <tbody>\n",
       "    <tr>\n",
       "      <th>11</th>\n",
       "      <td>V Kohli</td>\n",
       "      <td>120</td>\n",
       "      <td>120</td>\n",
       "      <td>179</td>\n",
       "      <td>1.0</td>\n",
       "      <td>0</td>\n",
       "      <td>125</td>\n",
       "      <td>14</td>\n",
       "      <td>1</td>\n",
       "      <td>96</td>\n",
       "      <td>1</td>\n",
       "      <td>v West Indies</td>\n",
       "      <td>Port of Spain</td>\n",
       "      <td>2019-11-08</td>\n",
       "      <td>India</td>\n",
       "      <td>0.0</td>\n",
       "      <td>1.0</td>\n",
       "      <td>100-149</td>\n",
       "      <td>NaN</td>\n",
       "      <td>NaN</td>\n",
       "      <td>NaN</td>\n",
       "      <td>NaN</td>\n",
       "      <td>NaN</td>\n",
       "      <td>NaN</td>\n",
       "      <td>NaN</td>\n",
       "      <td>NaN</td>\n",
       "      <td>NaN</td>\n",
       "      <td>NaN</td>\n",
       "      <td>2019</td>\n",
       "    </tr>\n",
       "    <tr>\n",
       "      <th>327</th>\n",
       "      <td>V Kohli</td>\n",
       "      <td>1</td>\n",
       "      <td>1</td>\n",
       "      <td>8</td>\n",
       "      <td>1.0</td>\n",
       "      <td>0</td>\n",
       "      <td>6</td>\n",
       "      <td>0</td>\n",
       "      <td>0</td>\n",
       "      <td>16.66</td>\n",
       "      <td>2</td>\n",
       "      <td>v New Zealand</td>\n",
       "      <td>Manchester</td>\n",
       "      <td>2019-09-07</td>\n",
       "      <td>India</td>\n",
       "      <td>0.0</td>\n",
       "      <td>0.0</td>\n",
       "      <td>0-49</td>\n",
       "      <td>NaN</td>\n",
       "      <td>NaN</td>\n",
       "      <td>NaN</td>\n",
       "      <td>NaN</td>\n",
       "      <td>NaN</td>\n",
       "      <td>NaN</td>\n",
       "      <td>NaN</td>\n",
       "      <td>NaN</td>\n",
       "      <td>NaN</td>\n",
       "      <td>NaN</td>\n",
       "      <td>2019</td>\n",
       "    </tr>\n",
       "    <tr>\n",
       "      <th>420</th>\n",
       "      <td>V Kohli</td>\n",
       "      <td>34*</td>\n",
       "      <td>34</td>\n",
       "      <td>61</td>\n",
       "      <td>1.0</td>\n",
       "      <td>1</td>\n",
       "      <td>41</td>\n",
       "      <td>3</td>\n",
       "      <td>0</td>\n",
       "      <td>82.92</td>\n",
       "      <td>2</td>\n",
       "      <td>v Sri Lanka</td>\n",
       "      <td>Leeds</td>\n",
       "      <td>2019-06-07</td>\n",
       "      <td>India</td>\n",
       "      <td>0.0</td>\n",
       "      <td>0.0</td>\n",
       "      <td>0-49</td>\n",
       "      <td>NaN</td>\n",
       "      <td>NaN</td>\n",
       "      <td>NaN</td>\n",
       "      <td>NaN</td>\n",
       "      <td>NaN</td>\n",
       "      <td>NaN</td>\n",
       "      <td>NaN</td>\n",
       "      <td>NaN</td>\n",
       "      <td>NaN</td>\n",
       "      <td>NaN</td>\n",
       "      <td>2019</td>\n",
       "    </tr>\n",
       "    <tr>\n",
       "      <th>664</th>\n",
       "      <td>V Kohli</td>\n",
       "      <td>26</td>\n",
       "      <td>26</td>\n",
       "      <td>45</td>\n",
       "      <td>1.0</td>\n",
       "      <td>0</td>\n",
       "      <td>27</td>\n",
       "      <td>3</td>\n",
       "      <td>0</td>\n",
       "      <td>96.29</td>\n",
       "      <td>1</td>\n",
       "      <td>v Bangladesh</td>\n",
       "      <td>Birmingham</td>\n",
       "      <td>2019-02-07</td>\n",
       "      <td>India</td>\n",
       "      <td>0.0</td>\n",
       "      <td>0.0</td>\n",
       "      <td>0-49</td>\n",
       "      <td>NaN</td>\n",
       "      <td>NaN</td>\n",
       "      <td>NaN</td>\n",
       "      <td>NaN</td>\n",
       "      <td>NaN</td>\n",
       "      <td>NaN</td>\n",
       "      <td>NaN</td>\n",
       "      <td>NaN</td>\n",
       "      <td>NaN</td>\n",
       "      <td>NaN</td>\n",
       "      <td>2019</td>\n",
       "    </tr>\n",
       "    <tr>\n",
       "      <th>804</th>\n",
       "      <td>V Kohli</td>\n",
       "      <td>66</td>\n",
       "      <td>66</td>\n",
       "      <td>103</td>\n",
       "      <td>1.0</td>\n",
       "      <td>0</td>\n",
       "      <td>76</td>\n",
       "      <td>7</td>\n",
       "      <td>0</td>\n",
       "      <td>86.84</td>\n",
       "      <td>2</td>\n",
       "      <td>v England</td>\n",
       "      <td>Birmingham</td>\n",
       "      <td>2019-06-30</td>\n",
       "      <td>India</td>\n",
       "      <td>1.0</td>\n",
       "      <td>0.0</td>\n",
       "      <td>50-99</td>\n",
       "      <td>NaN</td>\n",
       "      <td>NaN</td>\n",
       "      <td>NaN</td>\n",
       "      <td>NaN</td>\n",
       "      <td>NaN</td>\n",
       "      <td>NaN</td>\n",
       "      <td>NaN</td>\n",
       "      <td>NaN</td>\n",
       "      <td>NaN</td>\n",
       "      <td>NaN</td>\n",
       "      <td>2019</td>\n",
       "    </tr>\n",
       "  </tbody>\n",
       "</table>\n",
       "</div>"
      ],
      "text/plain": [
       "    Innings Player Innings Runs Scored  Innings Runs Scored Num Innings Minutes Batted  Innings Batted Flag  Innings Not Out Flag  Innings Balls Faced Innings Boundary Fours Innings Boundary Sixes Innings Batting Strike Rate Innings Number     Opposition         Ground Innings Date Country  50's  100's Innings Runs Scored Buckets Innings Overs Bowled  Innings Bowled Flag Innings Maidens Bowled Innings Runs Conceded Innings Wickets Taken  4 Wickets  5 Wickets  10 Wickets Innings Wickets Taken Buckets Innings Economy Rate  year\n",
       "11   V Kohli        120                 120                      179                    1.0                  0                     125                  14                     1                      96                          1              v West Indies  Port of Spain 2019-11-08    India   0.0   1.0    100-149                     NaN                 NaN                   NaN                    NaN                   NaN                  NaN        NaN        NaN          NaN                           NaN                  2019\n",
       "327  V Kohli        1                   1                        8                      1.0                  0                     6                    0                      0                      16.66                       2              v New Zealand  Manchester    2019-09-07    India   0.0   0.0    0-49                        NaN                 NaN                   NaN                    NaN                   NaN                  NaN        NaN        NaN          NaN                           NaN                  2019\n",
       "420  V Kohli        34*                 34                       61                     1.0                  1                     41                   3                      0                      82.92                       2              v Sri Lanka    Leeds         2019-06-07    India   0.0   0.0    0-49                        NaN                 NaN                   NaN                    NaN                   NaN                  NaN        NaN        NaN          NaN                           NaN                  2019\n",
       "664  V Kohli        26                  26                       45                     1.0                  0                     27                   3                      0                      96.29                       1              v Bangladesh   Birmingham    2019-02-07    India   0.0   0.0    0-49                        NaN                 NaN                   NaN                    NaN                   NaN                  NaN        NaN        NaN          NaN                           NaN                  2019\n",
       "804  V Kohli        66                  66                       103                    1.0                  0                     76                   7                      0                      86.84                       2              v England      Birmingham    2019-06-30    India   1.0   0.0    50-99                       NaN                 NaN                   NaN                    NaN                   NaN                  NaN        NaN        NaN          NaN                           NaN                  2019"
      ]
     },
     "execution_count": 230,
     "metadata": {},
     "output_type": "execute_result"
    }
   ],
   "source": [
    "kdf.head()"
   ]
  },
  {
   "cell_type": "code",
   "execution_count": 231,
   "metadata": {
    "id": "YBtl7jYvHTVA",
    "outputId": "8c215099-b391-4247-bcd9-3a699e45c0a9"
   },
   "outputs": [
    {
     "data": {
      "text/plain": [
       "11247"
      ]
     },
     "execution_count": 231,
     "metadata": {},
     "output_type": "execute_result"
    }
   ],
   "source": [
    "sum(kdf['Innings Runs Scored Num'])"
   ]
  },
  {
   "cell_type": "code",
   "execution_count": 232,
   "metadata": {
    "id": "ij765LURHTVA",
    "outputId": "7e021f1a-cd5e-477a-c7e0-c8355c8703f0"
   },
   "outputs": [
    {
     "data": {
      "text/plain": [
       "(224, 271)"
      ]
     },
     "execution_count": 232,
     "metadata": {},
     "output_type": "execute_result"
    }
   ],
   "source": [
    "len(kdf), len(sdf)"
   ]
  },
  {
   "cell_type": "code",
   "execution_count": 233,
   "metadata": {
    "id": "HindhA6EHTVA",
    "outputId": "1cfe140c-9431-4b7e-f325-b5d7e8d2f67a"
   },
   "outputs": [
    {
     "data": {
      "text/plain": [
       "(50.20982142857143, 43.608856088560884)"
      ]
     },
     "execution_count": 233,
     "metadata": {},
     "output_type": "execute_result"
    }
   ],
   "source": [
    "# RPI - Sachin, Virat\n",
    "sum(kdf['Innings Runs Scored Num'])/len(kdf), sum(sdf['Innings Runs Scored Num'])/len(sdf) "
   ]
  },
  {
   "cell_type": "code",
   "execution_count": 234,
   "metadata": {
    "id": "D-CJOpBXHTVA",
    "outputId": "e7bb81ca-69be-4033-a02f-50f20d7dc3f8"
   },
   "outputs": [
    {
     "data": {
      "text/plain": [
       "(93.56126778138258, 88.21377920429947)"
      ]
     },
     "execution_count": 234,
     "metadata": {},
     "output_type": "execute_result"
    }
   ],
   "source": [
    "# SR\n",
    "100*sum(kdf['Innings Runs Scored Num'])/sum(kdf['Innings Balls Faced']), 100*sum(sdf['Innings Runs Scored Num'])/sum(sdf['Innings Balls Faced'])"
   ]
  },
  {
   "cell_type": "code",
   "execution_count": 235,
   "metadata": {
    "id": "8RgcvSOVHTVA",
    "outputId": "4e24faf8-bb74-4239-9f5d-e4cab6bec6cf"
   },
   "outputs": [
    {
     "data": {
      "text/plain": [
       "(42.0, 37.0)"
      ]
     },
     "execution_count": 235,
     "metadata": {},
     "output_type": "execute_result"
    }
   ],
   "source": [
    "# 100's\n",
    "sum(kdf[\"100's\"]), sum(sdf[\"100's\"])"
   ]
  },
  {
   "cell_type": "code",
   "execution_count": 236,
   "metadata": {
    "id": "hM4khiIYHTVA",
    "outputId": "bdcfc836-bf9a-4652-aaac-fb2d4e127754"
   },
   "outputs": [
    {
     "data": {
      "text/plain": [
       "(53.0, 57.0)"
      ]
     },
     "execution_count": 236,
     "metadata": {},
     "output_type": "execute_result"
    }
   ],
   "source": [
    "# 50's\n",
    "sum(kdf[\"50's\"]), sum(sdf[\"50's\"])"
   ]
  },
  {
   "cell_type": "code",
   "execution_count": 237,
   "metadata": {
    "id": "rkGKtQmBHTVB",
    "outputId": "77693465-c3e0-4579-dec9-265ae0afadbc"
   },
   "outputs": [
    {
     "data": {
      "text/plain": [
       "(11247, 11818)"
      ]
     },
     "execution_count": 237,
     "metadata": {},
     "output_type": "execute_result"
    }
   ],
   "source": [
    "# Team Contribution - Runs score by each player, Runs by team\n",
    "sum(kdf['Innings Runs Scored Num']), sum(sdf['Innings Runs Scored Num'])"
   ]
  },
  {
   "cell_type": "code",
   "execution_count": 238,
   "metadata": {
    "id": "26xa4Te5HTVB",
    "outputId": "1afe5873-807a-49d6-8911-bdd14f0c8b05"
   },
   "outputs": [
    {
     "data": {
      "text/plain": [
       "69715"
      ]
     },
     "execution_count": 238,
     "metadata": {},
     "output_type": "execute_result"
    }
   ],
   "source": [
    "# 1994 - 2004 = All players\n",
    "sum(sachin_df[sachin_df.Country == 'India']['Innings Runs Scored Num'])"
   ]
  },
  {
   "cell_type": "code",
   "execution_count": 239,
   "metadata": {
    "id": "nAKDHmE_HTVB",
    "outputId": "5a41a91a-9e77-478e-aec7-8f8b685329c2"
   },
   "outputs": [
    {
     "data": {
      "text/plain": [
       "63867"
      ]
     },
     "execution_count": 239,
     "metadata": {},
     "output_type": "execute_result"
    }
   ],
   "source": [
    "# 2009 - 2019 = All players\n",
    "sum(kohli_df[kohli_df.Country == 'India']['Innings Runs Scored Num'])"
   ]
  },
  {
   "cell_type": "code",
   "execution_count": 240,
   "metadata": {
    "id": "diMlZoT5HTVB",
    "outputId": "e2a82baa-76d2-4c82-b091-54d65de8fb75"
   },
   "outputs": [
    {
     "data": {
      "text/plain": [
       "17.610033350556627"
      ]
     },
     "execution_count": 240,
     "metadata": {},
     "output_type": "execute_result"
    }
   ],
   "source": [
    "100*sum(kdf['Innings Runs Scored Num'])/sum(kohli_df[kohli_df.Country == 'India']['Innings Runs Scored Num'])"
   ]
  },
  {
   "cell_type": "code",
   "execution_count": 241,
   "metadata": {
    "id": "DnRCKsP0HTVC",
    "outputId": "aaec0757-8a03-4e94-b875-0de77c4180ca"
   },
   "outputs": [
    {
     "data": {
      "text/plain": [
       "16.951875493078965"
      ]
     },
     "execution_count": 241,
     "metadata": {},
     "output_type": "execute_result"
    }
   ],
   "source": [
    "100*sum(sdf['Innings Runs Scored Num'])/sum(sachin_df[sachin_df.Country == 'India']['Innings Runs Scored Num'])"
   ]
  },
  {
   "cell_type": "markdown",
   "metadata": {
    "id": "SI301k-SHTVC"
   },
   "source": [
    "### Visualizations:"
   ]
  },
  {
   "cell_type": "code",
   "execution_count": 242,
   "metadata": {
    "id": "km3ujMGjHTVD",
    "outputId": "ae6c2a10-7200-4341-b05f-6a83b051feaf"
   },
   "outputs": [
    {
     "data": {
      "text/plain": [
       "Innings Player\n",
       "SR Tendulkar      11818\n",
       "SC Ganguly        9911 \n",
       "ST Jayasuriya     9297 \n",
       "Inzamam-ul-Haq    8561 \n",
       "R Dravid          7751 \n",
       "RT Ponting        7422 \n",
       "Saeed Anwar       7320 \n",
       "JH Kallis         7267 \n",
       "MS Atapattu       7253 \n",
       "MG Bevan          6912 \n",
       "Name: Innings Runs Scored Num, dtype: int32"
      ]
     },
     "execution_count": 242,
     "metadata": {},
     "output_type": "execute_result"
    }
   ],
   "source": [
    "sachin_df.groupby(['Innings Player'])['Innings Runs Scored Num'].sum().sort_values(ascending = False).head(10)"
   ]
  },
  {
   "cell_type": "code",
   "execution_count": 243,
   "metadata": {
    "id": "83a_tL0FHTVD",
    "outputId": "a9752e5a-239f-427e-b43b-70712583b1c3"
   },
   "outputs": [
    {
     "data": {
      "image/png": "[encoded data removed]",
      "text/plain": [
       "<Figure size 432x288 with 1 Axes>"
      ]
     },
     "metadata": {
      "needs_background": "light"
     },
     "output_type": "display_data"
    }
   ],
   "source": [
    "sachin_df.groupby(['Innings Player'])['Innings Runs Scored Num'].sum().sort_values(ascending = False).head(10).plot(kind = 'barh')\n",
    "plt.show()"
   ]
  },
  {
   "cell_type": "code",
   "execution_count": 244,
   "metadata": {
    "id": "3WJXCiH4HTVD",
    "outputId": "39901061-5c5c-4545-97e7-1f1c6f40ddae"
   },
   "outputs": [
    {
     "data": {
      "text/plain": [
       "Innings Player\n",
       "V Kohli           11247\n",
       "RG Sharma         8083 \n",
       "HM Amla           7745 \n",
       "TM Dilshan        7296 \n",
       "KC Sangakkara     7275 \n",
       "AB de Villiers    7247 \n",
       "LRPL Taylor       7059 \n",
       "MS Dhoni          6838 \n",
       "EJG Morgan        6748 \n",
       "MJ Guptill        6626 \n",
       "Name: Innings Runs Scored Num, dtype: int32"
      ]
     },
     "execution_count": 244,
     "metadata": {},
     "output_type": "execute_result"
    }
   ],
   "source": [
    "kohli_df.groupby(['Innings Player'])['Innings Runs Scored Num'].sum().sort_values(ascending = False).head(10)"
   ]
  },
  {
   "cell_type": "code",
   "execution_count": 245,
   "metadata": {
    "id": "fE_u09hTHTVD",
    "outputId": "71ed1f0c-2f4c-4c8e-e1e0-280d1f7bb980"
   },
   "outputs": [
    {
     "data": {
      "image/png": "[encoded data removed]",
      "text/plain": [
       "<Figure size 432x288 with 1 Axes>"
      ]
     },
     "metadata": {
      "needs_background": "light"
     },
     "output_type": "display_data"
    }
   ],
   "source": [
    "kohli_df.groupby(['Innings Player'])['Innings Runs Scored Num'].sum().sort_values(ascending = False).head(10).plot(kind = 'barh')\n",
    "plt.show()"
   ]
  },
  {
   "cell_type": "code",
   "execution_count": 246,
   "metadata": {
    "id": "M_qosJmzHTVD",
    "outputId": "d19b1fee-367e-4d71-da1d-852868a65b07"
   },
   "outputs": [
    {
     "data": {
      "text/html": [
       "<div>\n",
       "<style scoped>\n",
       "    .dataframe tbody tr th:only-of-type {\n",
       "        vertical-align: middle;\n",
       "    }\n",
       "\n",
       "    .dataframe tbody tr th {\n",
       "        vertical-align: top;\n",
       "    }\n",
       "\n",
       "    .dataframe thead th {\n",
       "        text-align: right;\n",
       "    }\n",
       "</style>\n",
       "<table border=\"1\" class=\"dataframe\">\n",
       "  <thead>\n",
       "    <tr style=\"text-align: right;\">\n",
       "      <th></th>\n",
       "      <th>Innings Player</th>\n",
       "      <th>Innings Runs Scored</th>\n",
       "      <th>Innings Runs Scored Num</th>\n",
       "      <th>Innings Minutes Batted</th>\n",
       "      <th>Innings Batted Flag</th>\n",
       "      <th>Innings Not Out Flag</th>\n",
       "      <th>Innings Balls Faced</th>\n",
       "      <th>Innings Boundary Fours</th>\n",
       "      <th>Innings Boundary Sixes</th>\n",
       "      <th>Innings Batting Strike Rate</th>\n",
       "      <th>Innings Number</th>\n",
       "      <th>Opposition</th>\n",
       "      <th>Ground</th>\n",
       "      <th>Innings Date</th>\n",
       "      <th>Country</th>\n",
       "      <th>50's</th>\n",
       "      <th>100's</th>\n",
       "      <th>Innings Runs Scored Buckets</th>\n",
       "      <th>Innings Overs Bowled</th>\n",
       "      <th>Innings Bowled Flag</th>\n",
       "      <th>Innings Maidens Bowled</th>\n",
       "      <th>Innings Runs Conceded</th>\n",
       "      <th>Innings Wickets Taken</th>\n",
       "      <th>4 Wickets</th>\n",
       "      <th>5 Wickets</th>\n",
       "      <th>10 Wickets</th>\n",
       "      <th>Innings Wickets Taken Buckets</th>\n",
       "      <th>Innings Economy Rate</th>\n",
       "      <th>year</th>\n",
       "    </tr>\n",
       "  </thead>\n",
       "  <tbody>\n",
       "    <tr>\n",
       "      <th>77614</th>\n",
       "      <td>SR Tendulkar</td>\n",
       "      <td>47</td>\n",
       "      <td>47</td>\n",
       "      <td>60</td>\n",
       "      <td>1.0</td>\n",
       "      <td>0</td>\n",
       "      <td>42</td>\n",
       "      <td>9</td>\n",
       "      <td>0</td>\n",
       "      <td>111.9</td>\n",
       "      <td>1</td>\n",
       "      <td>v Bangladesh</td>\n",
       "      <td>Dhaka</td>\n",
       "      <td>2004-12-27</td>\n",
       "      <td>India</td>\n",
       "      <td>0.0</td>\n",
       "      <td>0.0</td>\n",
       "      <td>0-49</td>\n",
       "      <td>NaN</td>\n",
       "      <td>NaN</td>\n",
       "      <td>NaN</td>\n",
       "      <td>NaN</td>\n",
       "      <td>NaN</td>\n",
       "      <td>NaN</td>\n",
       "      <td>NaN</td>\n",
       "      <td>NaN</td>\n",
       "      <td>NaN</td>\n",
       "      <td>NaN</td>\n",
       "      <td>2004</td>\n",
       "    </tr>\n",
       "  </tbody>\n",
       "</table>\n",
       "</div>"
      ],
      "text/plain": [
       "      Innings Player Innings Runs Scored  Innings Runs Scored Num Innings Minutes Batted  Innings Batted Flag  Innings Not Out Flag  Innings Balls Faced Innings Boundary Fours Innings Boundary Sixes Innings Batting Strike Rate Innings Number    Opposition Ground Innings Date Country  50's  100's Innings Runs Scored Buckets Innings Overs Bowled  Innings Bowled Flag Innings Maidens Bowled Innings Runs Conceded Innings Wickets Taken  4 Wickets  5 Wickets  10 Wickets Innings Wickets Taken Buckets Innings Economy Rate  year\n",
       "77614  SR Tendulkar   47                  47                       60                     1.0                  0                     42                   9                      0                      111.9                       1              v Bangladesh  Dhaka 2004-12-27    India   0.0   0.0    0-49                        NaN                 NaN                   NaN                    NaN                   NaN                  NaN        NaN        NaN          NaN                           NaN                  2004"
      ]
     },
     "execution_count": 246,
     "metadata": {},
     "output_type": "execute_result"
    }
   ],
   "source": [
    "sdf.head(1)"
   ]
  },
  {
   "cell_type": "code",
   "execution_count": 247,
   "metadata": {
    "id": "OUH6jHs_HTVE",
    "outputId": "02a156a1-196c-4272-c8de-eb67bacee853"
   },
   "outputs": [
    {
     "data": {
      "text/plain": [
       "<AxesSubplot:xlabel='year'>"
      ]
     },
     "execution_count": 247,
     "metadata": {},
     "output_type": "execute_result"
    },
    {
     "data": {
      "image/png": "[encoded data removed]",
      "text/plain": [
       "<Figure size 432x288 with 1 Axes>"
      ]
     },
     "metadata": {
      "needs_background": "light"
     },
     "output_type": "display_data"
    }
   ],
   "source": [
    "sdf.groupby(['year'])['Innings Runs Scored Num'].sum().plot(kind = 'bar')"
   ]
  },
  {
   "cell_type": "code",
   "execution_count": 248,
   "metadata": {
    "id": "NrcLxCl8HTVE",
    "outputId": "a3e24d22-0439-4748-bf0f-e0f8ca6597c3"
   },
   "outputs": [
    {
     "data": {
      "text/plain": [
       "<AxesSubplot:xlabel='year'>"
      ]
     },
     "execution_count": 248,
     "metadata": {},
     "output_type": "execute_result"
    },
    {
     "data": {
      "image/png": "[encoded data removed]",
      "text/plain": [
       "<Figure size 432x288 with 1 Axes>"
      ]
     },
     "metadata": {
      "needs_background": "light"
     },
     "output_type": "display_data"
    }
   ],
   "source": [
    "kdf.groupby(['year'])['Innings Runs Scored Num'].sum().plot(kind = 'bar')"
   ]
  },
  {
   "cell_type": "markdown",
   "metadata": {
    "id": "ks6E1IAYHTVE"
   },
   "source": [
    "### Normalization:"
   ]
  },
  {
   "cell_type": "markdown",
   "metadata": {},
   "source": [
    "### RPI"
   ]
  },
  {
   "cell_type": "code",
   "execution_count": 249,
   "metadata": {
    "id": "mPjep3jHHTVE",
    "outputId": "bad6a09f-37aa-4325-c3b8-169d014c9e3c"
   },
   "outputs": [
    {
     "data": {
      "text/plain": [
       "(50.20982142857143, 43.608856088560884)"
      ]
     },
     "execution_count": 249,
     "metadata": {},
     "output_type": "execute_result"
    }
   ],
   "source": [
    "# RPI - Sachin, Virat\n",
    "sum(kdf['Innings Runs Scored Num'])/len(kdf), sum(sdf['Innings Runs Scored Num'])/len(sdf) "
   ]
  },
  {
   "cell_type": "code",
   "execution_count": 250,
   "metadata": {
    "id": "UMEK89S7HTVE"
   },
   "outputs": [],
   "source": [
    "# Kohli_df = player runs with Kohli\n",
    "# player runs excluding Kohli => not_kohli = kohli_df[kohli_df.player_name != 'V Kohli']"
   ]
  },
  {
   "cell_type": "code",
   "execution_count": 251,
   "metadata": {
    "id": "0yRBb-0GHTVE",
    "outputId": "0c9eee92-a2dc-4c8c-d6f4-1fe538ebf798"
   },
   "outputs": [
    {
     "data": {
      "text/plain": [
       "24.99673202614379"
      ]
     },
     "execution_count": 251,
     "metadata": {},
     "output_type": "execute_result"
    }
   ],
   "source": [
    "# RPI - Sachin, Virat\n",
    "sum(kohli_df['Innings Runs Scored Num'])/len(kohli_df)"
   ]
  },
  {
   "cell_type": "code",
   "execution_count": 252,
   "metadata": {
    "id": "A0esQTwuHTVE",
    "outputId": "6f8375d5-adac-4f1c-cd78-f1e227e88c2b"
   },
   "outputs": [
    {
     "data": {
      "text/html": [
       "<div>\n",
       "<style scoped>\n",
       "    .dataframe tbody tr th:only-of-type {\n",
       "        vertical-align: middle;\n",
       "    }\n",
       "\n",
       "    .dataframe tbody tr th {\n",
       "        vertical-align: top;\n",
       "    }\n",
       "\n",
       "    .dataframe thead th {\n",
       "        text-align: right;\n",
       "    }\n",
       "</style>\n",
       "<table border=\"1\" class=\"dataframe\">\n",
       "  <thead>\n",
       "    <tr style=\"text-align: right;\">\n",
       "      <th></th>\n",
       "      <th>Innings Player</th>\n",
       "      <th>Innings Runs Scored</th>\n",
       "      <th>Innings Runs Scored Num</th>\n",
       "      <th>Innings Minutes Batted</th>\n",
       "      <th>Innings Batted Flag</th>\n",
       "      <th>Innings Not Out Flag</th>\n",
       "      <th>Innings Balls Faced</th>\n",
       "      <th>Innings Boundary Fours</th>\n",
       "      <th>Innings Boundary Sixes</th>\n",
       "      <th>Innings Batting Strike Rate</th>\n",
       "      <th>Innings Number</th>\n",
       "      <th>Opposition</th>\n",
       "      <th>Ground</th>\n",
       "      <th>Innings Date</th>\n",
       "      <th>Country</th>\n",
       "      <th>50's</th>\n",
       "      <th>100's</th>\n",
       "      <th>Innings Runs Scored Buckets</th>\n",
       "      <th>Innings Overs Bowled</th>\n",
       "      <th>Innings Bowled Flag</th>\n",
       "      <th>Innings Maidens Bowled</th>\n",
       "      <th>Innings Runs Conceded</th>\n",
       "      <th>Innings Wickets Taken</th>\n",
       "      <th>4 Wickets</th>\n",
       "      <th>5 Wickets</th>\n",
       "      <th>10 Wickets</th>\n",
       "      <th>Innings Wickets Taken Buckets</th>\n",
       "      <th>Innings Economy Rate</th>\n",
       "      <th>year</th>\n",
       "    </tr>\n",
       "  </thead>\n",
       "  <tbody>\n",
       "    <tr>\n",
       "      <th>0</th>\n",
       "      <td>E Lewis</td>\n",
       "      <td>65</td>\n",
       "      <td>65</td>\n",
       "      <td>128</td>\n",
       "      <td>1.0</td>\n",
       "      <td>0</td>\n",
       "      <td>80</td>\n",
       "      <td>8</td>\n",
       "      <td>1</td>\n",
       "      <td>81.25</td>\n",
       "      <td>2</td>\n",
       "      <td>v India</td>\n",
       "      <td>Port of Spain</td>\n",
       "      <td>2019-11-08</td>\n",
       "      <td>West Indies</td>\n",
       "      <td>1.0</td>\n",
       "      <td>0.0</td>\n",
       "      <td>50-99</td>\n",
       "      <td>NaN</td>\n",
       "      <td>NaN</td>\n",
       "      <td>NaN</td>\n",
       "      <td>NaN</td>\n",
       "      <td>NaN</td>\n",
       "      <td>NaN</td>\n",
       "      <td>NaN</td>\n",
       "      <td>NaN</td>\n",
       "      <td>NaN</td>\n",
       "      <td>NaN</td>\n",
       "      <td>2019</td>\n",
       "    </tr>\n",
       "  </tbody>\n",
       "</table>\n",
       "</div>"
      ],
      "text/plain": [
       "  Innings Player Innings Runs Scored  Innings Runs Scored Num Innings Minutes Batted  Innings Batted Flag  Innings Not Out Flag  Innings Balls Faced Innings Boundary Fours Innings Boundary Sixes Innings Batting Strike Rate Innings Number Opposition         Ground Innings Date      Country  50's  100's Innings Runs Scored Buckets Innings Overs Bowled  Innings Bowled Flag Innings Maidens Bowled Innings Runs Conceded Innings Wickets Taken  4 Wickets  5 Wickets  10 Wickets Innings Wickets Taken Buckets Innings Economy Rate  year\n",
       "0  E Lewis        65                  65                       128                    1.0                  0                     80                   8                      1                      81.25                       2              v India    Port of Spain 2019-11-08    West Indies  1.0   0.0    50-99                       NaN                 NaN                   NaN                    NaN                   NaN                  NaN        NaN        NaN          NaN                           NaN                  2019"
      ]
     },
     "execution_count": 252,
     "metadata": {},
     "output_type": "execute_result"
    }
   ],
   "source": [
    "kohli_df.head(1)"
   ]
  },
  {
   "cell_type": "code",
   "execution_count": 253,
   "metadata": {
    "id": "E2v7gFo5HTVF"
   },
   "outputs": [],
   "source": [
    "non_kohli_df = kohli_df[kohli_df['Innings Player'] != 'V Kohli']"
   ]
  },
  {
   "cell_type": "code",
   "execution_count": 254,
   "metadata": {
    "id": "odJdrrztHTVF"
   },
   "outputs": [],
   "source": [
    "non_sachin_df = sachin_df[sachin_df['Innings Player'] != 'SR Tendulkar']"
   ]
  },
  {
   "cell_type": "code",
   "execution_count": 255,
   "metadata": {
    "id": "-6YNm-8SHTVF"
   },
   "outputs": [],
   "source": [
    "# Avg = 25 runs\n",
    "# Kohli = 50 "
   ]
  },
  {
   "cell_type": "code",
   "execution_count": 256,
   "metadata": {
    "id": "MJkBcoQNHTVF",
    "outputId": "88793743-d6dd-47b7-f287-cc2a438f68df"
   },
   "outputs": [
    {
     "data": {
      "text/plain": [
       "2.029683688052565"
      ]
     },
     "execution_count": 256,
     "metadata": {},
     "output_type": "execute_result"
    }
   ],
   "source": [
    "# normalized Kohli's value\n",
    "virat_rpi = sum(kdf['Innings Runs Scored Num'])/len(kdf)\n",
    "virat_peer_rpi = sum(non_kohli_df['Innings Runs Scored Num'])/len(non_kohli_df)\n",
    "virat_rpi/virat_peer_rpi"
   ]
  },
  {
   "cell_type": "code",
   "execution_count": 257,
   "metadata": {
    "id": "2p6sBXlfHTVF",
    "outputId": "3fb26151-e74a-48af-b9bd-d2f9b2d7b902"
   },
   "outputs": [
    {
     "data": {
      "text/plain": [
       "1.9437755485945407"
      ]
     },
     "execution_count": 257,
     "metadata": {},
     "output_type": "execute_result"
    }
   ],
   "source": [
    "# normalized sachin's value\n",
    "sachin_rpi = sum(sdf['Innings Runs Scored Num'])/len(sdf)\n",
    "sachin_peer_rpi = sum(non_sachin_df['Innings Runs Scored Num'])/len(non_sachin_df)\n",
    "sachin_rpi/sachin_peer_rpi"
   ]
  },
  {
   "cell_type": "code",
   "execution_count": 258,
   "metadata": {
    "id": "hNkULDs2HTVF"
   },
   "outputs": [],
   "source": [
    "# kohli => other\n",
    "# SR = V = 93, Other = 80, V/other, S/others\n",
    "# 100s - Number of matches to score a 100\n",
    "# 50s - Number of matches to score a 50\n",
    "# Team contribution - V_cont/O_cont"
   ]
  },
  {
   "cell_type": "code",
   "execution_count": 259,
   "metadata": {
    "id": "3WzGBtdDHTVF",
    "outputId": "75fdbfeb-ae30-48e6-e42b-342b91e33ca5"
   },
   "outputs": [
    {
     "data": {
      "text/plain": [
       "(5.0, 5.405405405405405)"
      ]
     },
     "execution_count": 259,
     "metadata": {},
     "output_type": "execute_result"
    }
   ],
   "source": [
    "200/40, 200/37"
   ]
  },
  {
   "cell_type": "markdown",
   "metadata": {
    "id": "4zheqlX9HTVF"
   },
   "source": [
    "### Strike Rate:"
   ]
  },
  {
   "cell_type": "code",
   "execution_count": 260,
   "metadata": {
    "id": "7UyWOad5HTVG",
    "outputId": "5e6c2234-1c3b-4cb7-8633-198d846f800e"
   },
   "outputs": [
    {
     "data": {
      "text/plain": [
       "0.8821377920429947"
      ]
     },
     "execution_count": 260,
     "metadata": {},
     "output_type": "execute_result"
    }
   ],
   "source": [
    "# sr of sachin\n",
    "sum(sdf['Innings Runs Scored Num'])/sum(sdf['Innings Balls Faced'])"
   ]
  },
  {
   "cell_type": "code",
   "execution_count": 261,
   "metadata": {
    "id": "F0sMj-PcHTVG",
    "outputId": "05b0706c-457c-42cd-e765-4f377c6b3afd"
   },
   "outputs": [
    {
     "data": {
      "text/plain": [
       "0.7233808936558636"
      ]
     },
     "execution_count": 261,
     "metadata": {},
     "output_type": "execute_result"
    }
   ],
   "source": [
    "# sr of sachin's peers\n",
    "sum(non_sachin_df['Innings Runs Scored Num'])/sum(non_sachin_df['Innings Balls Faced'])"
   ]
  },
  {
   "cell_type": "code",
   "execution_count": 262,
   "metadata": {
    "id": "GwXRknMIHTVG",
    "outputId": "d083ab76-7273-4460-c7fe-508e5a477b00"
   },
   "outputs": [
    {
     "data": {
      "text/plain": [
       "0.9356126778138258"
      ]
     },
     "execution_count": 262,
     "metadata": {},
     "output_type": "execute_result"
    }
   ],
   "source": [
    "# sr of kohli\n",
    "sum(kdf['Innings Runs Scored Num'])/sum(kdf['Innings Balls Faced'])"
   ]
  },
  {
   "cell_type": "code",
   "execution_count": 263,
   "metadata": {
    "id": "0GLhi5KCHTVG",
    "outputId": "219a51a6-284d-431b-caaf-90971b91add5"
   },
   "outputs": [
    {
     "data": {
      "text/plain": [
       "0.8342743413330611"
      ]
     },
     "execution_count": 263,
     "metadata": {},
     "output_type": "execute_result"
    }
   ],
   "source": [
    "# sr of kohli's peers\n",
    "sum(non_kohli_df['Innings Runs Scored Num'])/sum(non_kohli_df['Innings Balls Faced'])"
   ]
  },
  {
   "cell_type": "code",
   "execution_count": 264,
   "metadata": {
    "id": "T6T3BoHRHTVG",
    "outputId": "32d83bb5-a4f0-4c1e-d147-d448cd3d4f0b"
   },
   "outputs": [
    {
     "data": {
      "text/plain": [
       "1.2194651528391862"
      ]
     },
     "execution_count": 264,
     "metadata": {},
     "output_type": "execute_result"
    }
   ],
   "source": [
    "# normalized sachin's value\n",
    "sachin_sr = sum(sdf['Innings Runs Scored Num'])/sum(sdf['Innings Balls Faced'])\n",
    "sachin_peer_sr = sum(non_sachin_df['Innings Runs Scored Num'])/sum(non_sachin_df['Innings Balls Faced'])\n",
    "sachin_sr/sachin_peer_sr"
   ]
  },
  {
   "cell_type": "code",
   "execution_count": 265,
   "metadata": {
    "id": "oDaHPDY1HTVG",
    "outputId": "75d77fa0-a830-4a1a-ce15-07c4dc0c2ca9"
   },
   "outputs": [
    {
     "data": {
      "text/plain": [
       "1.121468839996732"
      ]
     },
     "execution_count": 265,
     "metadata": {},
     "output_type": "execute_result"
    }
   ],
   "source": [
    "# normalized kohli's value\n",
    "kohli_sr = sum(kdf['Innings Runs Scored Num'])/sum(kdf['Innings Balls Faced'])\n",
    "kohli_peer_sr = sum(non_kohli_df['Innings Runs Scored Num'])/sum(non_kohli_df['Innings Balls Faced'])\n",
    "kohli_sr/kohli_peer_sr"
   ]
  },
  {
   "cell_type": "markdown",
   "metadata": {
    "id": "DhZY0zhtHTVG"
   },
   "source": [
    "### 100's: Number of matches to score a 100"
   ]
  },
  {
   "cell_type": "code",
   "execution_count": 266,
   "metadata": {
    "id": "VZEi6uJQHTVH",
    "outputId": "f7607eec-89e0-4149-b954-16bc3705c9de"
   },
   "outputs": [
    {
     "data": {
      "text/plain": [
       "7.324324324324325"
      ]
     },
     "execution_count": 266,
     "metadata": {},
     "output_type": "execute_result"
    }
   ],
   "source": [
    "# sachin matches per 100\n",
    "len(sdf)/sum(sdf[\"100's\"])"
   ]
  },
  {
   "cell_type": "code",
   "execution_count": 267,
   "metadata": {
    "id": "Efph6sVwHTVH",
    "outputId": "fb238374-5106-4454-a385-7a70d6f9d0f2"
   },
   "outputs": [
    {
     "data": {
      "text/plain": [
       "47.377969762419006"
      ]
     },
     "execution_count": 267,
     "metadata": {},
     "output_type": "execute_result"
    }
   ],
   "source": [
    "# sachin peers - matches per 100\n",
    "len(non_sachin_df)/sum(non_sachin_df[\"100's\"])"
   ]
  },
  {
   "cell_type": "code",
   "execution_count": 268,
   "metadata": {
    "id": "6Lik_vnDHTVH",
    "outputId": "303218dc-6baf-4582-b20e-7ca881283119"
   },
   "outputs": [
    {
     "data": {
      "text/plain": [
       "5.333333333333333"
      ]
     },
     "execution_count": 268,
     "metadata": {},
     "output_type": "execute_result"
    }
   ],
   "source": [
    "# kohli matches per 100\n",
    "len(kdf)/sum(kdf[\"100's\"])"
   ]
  },
  {
   "cell_type": "code",
   "execution_count": 269,
   "metadata": {
    "id": "DQwUXRwoHTVH",
    "outputId": "14a6f303-89b3-4851-bdae-25d7b1c24219"
   },
   "outputs": [
    {
     "data": {
      "text/plain": [
       "29.311827956989248"
      ]
     },
     "execution_count": 269,
     "metadata": {},
     "output_type": "execute_result"
    }
   ],
   "source": [
    "# kohli peers - matches per 100\n",
    "len(non_kohli_df)/sum(non_kohli_df[\"100's\"])"
   ]
  },
  {
   "cell_type": "code",
   "execution_count": 270,
   "metadata": {
    "id": "wCq2FIxOHTVH",
    "outputId": "2c2a6977-1dc0-4f14-c684-80ca5e21e053"
   },
   "outputs": [
    {
     "data": {
      "text/plain": [
       "0.15459346107595562"
      ]
     },
     "execution_count": 270,
     "metadata": {},
     "output_type": "execute_result"
    }
   ],
   "source": [
    "# normalized sachin value\n",
    "sachin_mper_100 = len(sdf)/sum(sdf[\"100's\"])\n",
    "sachin_peers_mper_100 = len(non_sachin_df)/sum(non_sachin_df[\"100's\"])\n",
    "sachin_mper_100/sachin_peers_mper_100"
   ]
  },
  {
   "cell_type": "code",
   "execution_count": 271,
   "metadata": {
    "id": "J9wnQc1qHTVH",
    "outputId": "c5c5cdff-60b8-4316-a452-15b286db2a3b"
   },
   "outputs": [
    {
     "data": {
      "text/plain": [
       "0.18195157740278795"
      ]
     },
     "execution_count": 271,
     "metadata": {},
     "output_type": "execute_result"
    }
   ],
   "source": [
    "# normalized virat value\n",
    "kohli_mper_100 = len(kdf)/sum(kdf[\"100's\"])\n",
    "kohli_peers_mper_100 = len(non_kohli_df)/sum(non_kohli_df[\"100's\"])\n",
    "kohli_mper_100/kohli_peers_mper_100"
   ]
  },
  {
   "cell_type": "markdown",
   "metadata": {
    "id": "11JyAxu8HTVH"
   },
   "source": [
    "### 50's: Number of matches to score a 50"
   ]
  },
  {
   "cell_type": "code",
   "execution_count": 272,
   "metadata": {
    "id": "YB7eUFxzHTVI",
    "outputId": "2984be08-8b6e-444a-b9c1-8acb6e5d7f6f"
   },
   "outputs": [
    {
     "data": {
      "text/plain": [
       "4.754385964912281"
      ]
     },
     "execution_count": 272,
     "metadata": {},
     "output_type": "execute_result"
    }
   ],
   "source": [
    "# sachin matches per 100\n",
    "len(sdf)/sum(sdf[\"50's\"])"
   ]
  },
  {
   "cell_type": "code",
   "execution_count": 273,
   "metadata": {
    "id": "ZeMYcQH6HTVI",
    "outputId": "7938103d-bd4e-4d2d-c1d0-dd7314b82d15"
   },
   "outputs": [
    {
     "data": {
      "text/plain": [
       "8.33751425313569"
      ]
     },
     "execution_count": 273,
     "metadata": {},
     "output_type": "execute_result"
    }
   ],
   "source": [
    "# sachin peers - matches per 100\n",
    "len(non_sachin_df)/sum(non_sachin_df[\"50's\"])"
   ]
  },
  {
   "cell_type": "code",
   "execution_count": 274,
   "metadata": {
    "id": "ey_duw71HTVI",
    "outputId": "9f81bc0e-c4f8-4da0-f05b-5564ad6ddc17"
   },
   "outputs": [
    {
     "data": {
      "text/plain": [
       "4.226415094339623"
      ]
     },
     "execution_count": 274,
     "metadata": {},
     "output_type": "execute_result"
    }
   ],
   "source": [
    "# kohli matches per 100\n",
    "len(kdf)/sum(kdf[\"50's\"])"
   ]
  },
  {
   "cell_type": "code",
   "execution_count": 275,
   "metadata": {
    "id": "zENXJWocHTVI",
    "outputId": "a891278e-ef6c-4010-9b02-81937b304510"
   },
   "outputs": [
    {
     "data": {
      "text/plain": [
       "7.673469387755102"
      ]
     },
     "execution_count": 275,
     "metadata": {},
     "output_type": "execute_result"
    }
   ],
   "source": [
    "# kohli peers - matches per 100\n",
    "len(non_kohli_df)/sum(non_kohli_df[\"50's\"])"
   ]
  },
  {
   "cell_type": "code",
   "execution_count": 276,
   "metadata": {
    "id": "QpmKFsEoHTVL",
    "outputId": "0fc58f2f-3e62-48d0-c462-9a1a56a1e5eb"
   },
   "outputs": [
    {
     "data": {
      "text/plain": [
       "0.5702402203539483"
      ]
     },
     "execution_count": 276,
     "metadata": {},
     "output_type": "execute_result"
    }
   ],
   "source": [
    "# normalized sachin value\n",
    "sachin_mper_50 = len(sdf)/sum(sdf[\"50's\"])\n",
    "sachin_peers_mper_50 = len(non_sachin_df)/sum(non_sachin_df[\"50's\"])\n",
    "sachin_mper_50/sachin_peers_mper_50"
   ]
  },
  {
   "cell_type": "code",
   "execution_count": 277,
   "metadata": {
    "id": "tt_rInr5HTVL",
    "outputId": "d62a08f7-a5eb-45e4-8217-a2f3aacdb2f3"
   },
   "outputs": [
    {
     "data": {
      "text/plain": [
       "0.5507828181453231"
      ]
     },
     "execution_count": 277,
     "metadata": {},
     "output_type": "execute_result"
    }
   ],
   "source": [
    "# normalized virat value\n",
    "kohli_mper_50 = len(kdf)/sum(kdf[\"50's\"])\n",
    "kohli_peers_mper_50 = len(non_kohli_df)/sum(non_kohli_df[\"50's\"])\n",
    "kohli_mper_50/kohli_peers_mper_50"
   ]
  },
  {
   "cell_type": "markdown",
   "metadata": {
    "id": "zNcrFQ44HTVL"
   },
   "source": [
    "### Team Contribution: Here we are already comparing with peers, hence no need of a normalization"
   ]
  },
  {
   "cell_type": "code",
   "execution_count": 278,
   "metadata": {
    "id": "K1-IgT-dHTVL",
    "outputId": "4b788044-feda-4eb1-ad2f-6c26ca068b68"
   },
   "outputs": [],
   "source": [
    "# % of team runs by sachin\n",
    "sch_team_contribution = 100*sum(sdf['Innings Runs Scored Num'])/(sum(non_sachin_df[non_sachin_df.Country == 'India']['Innings Runs Scored Num'])+sum(sdf['Innings Runs Scored Num']))"
   ]
  },
  {
   "cell_type": "code",
   "execution_count": 279,
   "metadata": {
    "id": "3T2q2Uu0HTVL",
    "outputId": "9665ea4b-6144-42fc-a87a-8b4c284c2e6f"
   },
   "outputs": [],
   "source": [
    "# % of team runs by kohli\n",
    "kohli_team_contribution = 100*sum(kdf['Innings Runs Scored Num'])/(sum(non_kohli_df[non_kohli_df.Country == 'India']['Innings Runs Scored Num'])+sum(kdf['Innings Runs Scored Num']))"
   ]
  },
  {
   "cell_type": "code",
   "execution_count": 290,
   "metadata": {},
   "outputs": [],
   "source": [
    "# Normalised Values\n",
    "# matches per hundred\n",
    "_match_per_hundred = [sachin_mper_100/sachin_peers_mper_100,kohli_mper_100/kohli_peers_mper_100]\n",
    "# matches per fifty\n",
    "_match_per_fifty = [sachin_mper_50/sachin_peers_mper_50,kohli_mper_50/kohli_peers_mper_50]\n",
    "# SR\n",
    "_strike_rate = [sachin_sr/sachin_peer_sr,kohli_sr/kohli_peer_sr]\n",
    "# RPI\n",
    "_run_per_inning = [sachin_rpi/sachin_peer_rpi,virat_rpi/virat_peer_rpi]\n",
    "# Team Contribution\n",
    "_team_contribution = [sch_team_contribution,kohli_team_contribution]"
   ]
  },
  {
   "cell_type": "code",
   "execution_count": 311,
   "metadata": {},
   "outputs": [],
   "source": [
    "columns = ['category','sachin','kohli','winner']\n",
    "categories = [\"100's\",\"50's\",\"SR\",\"RPI\",\"Team Contibution\"]\n",
    "player_idx = {0:'sachin',1:'Kohli'}"
   ]
  },
  {
   "cell_type": "code",
   "execution_count": 292,
   "metadata": {},
   "outputs": [],
   "source": [
    "data = [_match_per_hundred,_match_per_fifty,_strike_rate,_run_per_inning,_team_contribution]"
   ]
  },
  {
   "cell_type": "code",
   "execution_count": 293,
   "metadata": {
    "scrolled": true
   },
   "outputs": [],
   "source": [
    "for idx,d in enumerate(data):\n",
    "    if categories[idx]==\"100's\" or categories[idx]==\"50's\":\n",
    "        val = np.argmin(data[idx])\n",
    "        data[idx].append(player_idx[val])\n",
    "        continue\n",
    "    val = np.argmax(data[idx])\n",
    "    data[idx].append(player_idx[val])"
   ]
  },
  {
   "cell_type": "code",
   "execution_count": 294,
   "metadata": {},
   "outputs": [],
   "source": [
    "data = np.array(data)"
   ]
  },
  {
   "cell_type": "code",
   "execution_count": 331,
   "metadata": {},
   "outputs": [],
   "source": [
    "a = np.array(categories)\n",
    "a = a.reshape(-1,1)\n",
    "data = np.hstack((a,data))"
   ]
  },
  {
   "cell_type": "code",
   "execution_count": 382,
   "metadata": {},
   "outputs": [],
   "source": [
    "score_df_ = pd.DataFrame(data,columns=columns)"
   ]
  },
  {
   "cell_type": "code",
   "execution_count": null,
   "metadata": {},
   "outputs": [],
   "source": []
  },
  {
   "cell_type": "code",
   "execution_count": 383,
   "metadata": {},
   "outputs": [
    {
     "data": {
      "text/html": [
       "<div>\n",
       "<style scoped>\n",
       "    .dataframe tbody tr th:only-of-type {\n",
       "        vertical-align: middle;\n",
       "    }\n",
       "\n",
       "    .dataframe tbody tr th {\n",
       "        vertical-align: top;\n",
       "    }\n",
       "\n",
       "    .dataframe thead th {\n",
       "        text-align: right;\n",
       "    }\n",
       "</style>\n",
       "<table border=\"1\" class=\"dataframe\">\n",
       "  <thead>\n",
       "    <tr style=\"text-align: right;\">\n",
       "      <th></th>\n",
       "      <th>category</th>\n",
       "      <th>sachin</th>\n",
       "      <th>kohli</th>\n",
       "      <th>winner</th>\n",
       "    </tr>\n",
       "  </thead>\n",
       "  <tbody>\n",
       "    <tr>\n",
       "      <th>0</th>\n",
       "      <td>100's</td>\n",
       "      <td>0.15459346107595562</td>\n",
       "      <td>0.18195157740278795</td>\n",
       "      <td>sachin</td>\n",
       "    </tr>\n",
       "    <tr>\n",
       "      <th>1</th>\n",
       "      <td>50's</td>\n",
       "      <td>0.5702402203539483</td>\n",
       "      <td>0.5507828181453231</td>\n",
       "      <td>Kohli</td>\n",
       "    </tr>\n",
       "    <tr>\n",
       "      <th>2</th>\n",
       "      <td>SR</td>\n",
       "      <td>1.2194651528391862</td>\n",
       "      <td>1.121468839996732</td>\n",
       "      <td>sachin</td>\n",
       "    </tr>\n",
       "    <tr>\n",
       "      <th>3</th>\n",
       "      <td>RPI</td>\n",
       "      <td>1.9437755485945407</td>\n",
       "      <td>2.029683688052565</td>\n",
       "      <td>Kohli</td>\n",
       "    </tr>\n",
       "    <tr>\n",
       "      <th>4</th>\n",
       "      <td>Team Contibution</td>\n",
       "      <td>16.951875493078965</td>\n",
       "      <td>17.610033350556627</td>\n",
       "      <td>Kohli</td>\n",
       "    </tr>\n",
       "  </tbody>\n",
       "</table>\n",
       "</div>"
      ],
      "text/plain": [
       "           category               sachin                kohli  winner\n",
       "0  100's             0.15459346107595562  0.18195157740278795  sachin\n",
       "1  50's              0.5702402203539483   0.5507828181453231   Kohli \n",
       "2  SR                1.2194651528391862   1.121468839996732    sachin\n",
       "3  RPI               1.9437755485945407   2.029683688052565    Kohli \n",
       "4  Team Contibution  16.951875493078965   17.610033350556627   Kohli "
      ]
     },
     "execution_count": 383,
     "metadata": {},
     "output_type": "execute_result"
    }
   ],
   "source": [
    "# !pip install dataframe_image\n",
    "score_df_.head()"
   ]
  },
  {
   "cell_type": "code",
   "execution_count": 384,
   "metadata": {},
   "outputs": [],
   "source": [
    "# score_df_.style.background_gradient?"
   ]
  },
  {
   "cell_type": "code",
   "execution_count": 385,
   "metadata": {},
   "outputs": [],
   "source": [
    "import dataframe_image as dfi"
   ]
  },
  {
   "cell_type": "code",
   "execution_count": 386,
   "metadata": {},
   "outputs": [],
   "source": [
    "dfi.export(score_df_,\"comparison_table.png\")"
   ]
  },
  {
   "cell_type": "code",
   "execution_count": null,
   "metadata": {},
   "outputs": [],
   "source": []
  }
 ],
 "metadata": {
  "colab": {
   "name": "Case Study - Virat vs Sachin .ipynb",
   "provenance": []
  },
  "kernelspec": {
   "display_name": "Python 3",
   "language": "python",
   "name": "python3"
  },
  "language_info": {
   "codemirror_mode": {
    "name": "ipython",
    "version": 3
   },
   "file_extension": ".py",
   "mimetype": "text/x-python",
   "name": "python",
   "nbconvert_exporter": "python",
   "pygments_lexer": "ipython3",
   "version": "3.9.2"
  }
 },
 "nbformat": 4,
 "nbformat_minor": 1
}
